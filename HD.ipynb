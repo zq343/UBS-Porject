{
  "nbformat": 4,
  "nbformat_minor": 0,
  "metadata": {
    "kernelspec": {
      "display_name": "Python 3",
      "language": "python",
      "name": "python3"
    },
    "language_info": {
      "codemirror_mode": {
        "name": "ipython",
        "version": 3
      },
      "file_extension": ".py",
      "mimetype": "text/x-python",
      "name": "python",
      "nbconvert_exporter": "python",
      "pygments_lexer": "ipython3",
      "version": "3.7.3"
    },
    "colab": {
      "name": "HD.ipynb",
      "provenance": [],
      "toc_visible": true,
      "include_colab_link": true
    },
    "accelerator": "GPU"
  },
  "cells": [
    {
      "cell_type": "markdown",
      "metadata": {
        "id": "view-in-github",
        "colab_type": "text"
      },
      "source": [
        "<a href=\"https://colab.research.google.com/github/zq343/UBS-Porject/blob/main/HD.ipynb\" target=\"_parent\"><img src=\"https://colab.research.google.com/assets/colab-badge.svg\" alt=\"Open In Colab\"/></a>"
      ]
    },
    {
      "cell_type": "markdown",
      "metadata": {
        "id": "JQybj6Why3jg"
      },
      "source": [
        "# 0. Setting up the Environment\n"
      ]
    },
    {
      "cell_type": "code",
      "metadata": {
        "id": "F0mIsUrHuLkt",
        "outputId": "2f5f0299-3c49-4879-ea5d-ad92bfe5c436",
        "colab": {
          "base_uri": "https://localhost:8080/",
          "height": 102
        }
      },
      "source": [
        "# # Install Magnitude on Google Colab \n",
        "# ! echo \"Installing Magnitude.... (please wait, can take a while)\"\n",
        "# ! (curl https://raw.githubusercontent.com/plasticityai/magnitude/master/install-colab.sh | /bin/bash 1>/dev/null 2>/dev/null)\n",
        "# ! echo \"Done installing Magnitude.\""
      ],
      "execution_count": null,
      "outputs": [
        {
          "output_type": "stream",
          "text": [
            "Installing Magnitude.... (please wait, can take a while)\n",
            "  % Total    % Received % Xferd  Average Speed   Time    Time     Time  Current\n",
            "                                 Dload  Upload   Total   Spent    Left  Speed\n",
            "100   137  100   137    0     0    631      0 --:--:-- --:--:-- --:--:--   631\n",
            "Done installing Magnitude.\n"
          ],
          "name": "stdout"
        }
      ]
    },
    {
      "cell_type": "code",
      "metadata": {
        "id": "rK1y8x0GQAZT"
      },
      "source": [
        "import numpy as np\n",
        "import pandas as pd\n",
        "import io\n",
        "import os\n",
        "import nltk\n",
        "import re\n",
        "import string\n",
        "import math\n",
        "#from pymagnitude import * \n",
        "from google.colab import files\n",
        "from datetime import datetime\n",
        "\n",
        "from sklearn.model_selection import cross_val_score,train_test_split\n",
        "from sklearn.ensemble import RandomForestRegressor, BaggingRegressor\n",
        "from sklearn.metrics import mean_squared_error\n",
        "import xgboost as xgb"
      ],
      "execution_count": 2,
      "outputs": []
    },
    {
      "cell_type": "code",
      "metadata": {
        "id": "TOFsra9rrDHP",
        "outputId": "180f3c8c-b82a-4493-b97b-ee86385491b2",
        "colab": {
          "base_uri": "https://localhost:8080/",
          "height": 34
        }
      },
      "source": [
        "from google.colab import drive\n",
        "drive.mount('/content/drive')"
      ],
      "execution_count": 3,
      "outputs": [
        {
          "output_type": "stream",
          "text": [
            "Mounted at /content/drive\n"
          ],
          "name": "stdout"
        }
      ]
    },
    {
      "cell_type": "markdown",
      "metadata": {
        "id": "2Au8WQOAQAZc"
      },
      "source": [
        "# 1. Get the Data"
      ]
    },
    {
      "cell_type": "code",
      "metadata": {
        "id": "btAvD9RjQAZe"
      },
      "source": [
        "#anaconda code\n",
        "# #DATA_PATH = \"./ubs/data\" \n",
        "\n",
        "# df_train = pd.read_csv( os.path.join(DATA_PATH, \"train.csv\"), encoding=\"ISO-8859-1\")\n",
        "# df_test = pd.read_csv( os.path.join(DATA_PATH, \"test.csv\"), encoding=\"ISO-8859-1\")\n",
        "# df_pro_desc = pd.read_csv(os.path.join(DATA_PATH,'product_descriptions.csv'),encoding=\"ISO-8859-1\")\n",
        "# df_train_desc = pd.merge(df_train, df_pro_desc, how='left', on='product_uid')\n",
        "# df_train_all = df_train_desc"
      ],
      "execution_count": 1,
      "outputs": []
    },
    {
      "cell_type": "code",
      "metadata": {
        "id": "MC19A0kaYny8",
        "outputId": "47eb3847-7025-4bc8-8efa-4ec6c6207246",
        "colab": {
          "base_uri": "https://localhost:8080/",
          "height": 232
        }
      },
      "source": [
        "#google colab code\n",
        "df_train = pd.read_csv(\"/content/drive/My Drive/UBS/train.csv\", encoding=\"ISO-8859-1\")\n",
        "df_test = pd.read_csv(\"/content/drive/My Drive/UBS/test.csv\", encoding=\"ISO-8859-1\")\n",
        "df_pro_desc = pd.read_csv(\"/content/drive/My Drive/UBS/product_descriptions.csv\", encoding=\"ISO-8859-1\")"
      ],
      "execution_count": 2,
      "outputs": [
        {
          "output_type": "error",
          "ename": "NameError",
          "evalue": "ignored",
          "traceback": [
            "\u001b[0;31m---------------------------------------------------------------------------\u001b[0m",
            "\u001b[0;31mNameError\u001b[0m                                 Traceback (most recent call last)",
            "\u001b[0;32m<ipython-input-2-3147e7bc3f46>\u001b[0m in \u001b[0;36m<module>\u001b[0;34m()\u001b[0m\n\u001b[1;32m      1\u001b[0m \u001b[0;31m#google colab code\u001b[0m\u001b[0;34m\u001b[0m\u001b[0;34m\u001b[0m\u001b[0;34m\u001b[0m\u001b[0m\n\u001b[0;32m----> 2\u001b[0;31m \u001b[0mdf_train\u001b[0m \u001b[0;34m=\u001b[0m \u001b[0mpd\u001b[0m\u001b[0;34m.\u001b[0m\u001b[0mread_csv\u001b[0m\u001b[0;34m(\u001b[0m\u001b[0;34m\"/content/drive/My Drive/UBS/train.csv\"\u001b[0m\u001b[0;34m,\u001b[0m \u001b[0mencoding\u001b[0m\u001b[0;34m=\u001b[0m\u001b[0;34m\"ISO-8859-1\"\u001b[0m\u001b[0;34m)\u001b[0m\u001b[0;34m\u001b[0m\u001b[0;34m\u001b[0m\u001b[0m\n\u001b[0m\u001b[1;32m      3\u001b[0m \u001b[0mdf_test\u001b[0m \u001b[0;34m=\u001b[0m \u001b[0mpd\u001b[0m\u001b[0;34m.\u001b[0m\u001b[0mread_csv\u001b[0m\u001b[0;34m(\u001b[0m\u001b[0;34m\"/content/drive/My Drive/UBS/test.csv\"\u001b[0m\u001b[0;34m,\u001b[0m \u001b[0mencoding\u001b[0m\u001b[0;34m=\u001b[0m\u001b[0;34m\"ISO-8859-1\"\u001b[0m\u001b[0;34m)\u001b[0m\u001b[0;34m\u001b[0m\u001b[0;34m\u001b[0m\u001b[0m\n\u001b[1;32m      4\u001b[0m \u001b[0mdf_pro_desc\u001b[0m \u001b[0;34m=\u001b[0m \u001b[0mpd\u001b[0m\u001b[0;34m.\u001b[0m\u001b[0mread_csv\u001b[0m\u001b[0;34m(\u001b[0m\u001b[0;34m\"/content/drive/My Drive/UBS/product_descriptions.csv\"\u001b[0m\u001b[0;34m,\u001b[0m \u001b[0mencoding\u001b[0m\u001b[0;34m=\u001b[0m\u001b[0;34m\"ISO-8859-1\"\u001b[0m\u001b[0;34m)\u001b[0m\u001b[0;34m\u001b[0m\u001b[0;34m\u001b[0m\u001b[0m\n",
            "\u001b[0;31mNameError\u001b[0m: name 'pd' is not defined"
          ]
        }
      ]
    },
    {
      "cell_type": "code",
      "metadata": {
        "id": "Upd5dijbbhlS"
      },
      "source": [
        "# Import attributes file.\n",
        "# Requires a little preprocessing since some values contain tabs\n",
        "# and the file is tab delimited.\n",
        "from io import StringIO\n",
        "attributes_string = StringIO()\n",
        "with open('/content/drive/My Drive/UBS/attributes.csv', encoding ='ISO-8859-1') as attributes_csv:\n",
        "    for line in attributes_csv:\n",
        "        new_line = re.sub(r'\\t', '|', line.rstrip(), count=2)\n",
        "        print (new_line, file=attributes_string)\n",
        "\n",
        "# Set the index back to zero for reading\n",
        "attributes_string.seek(0)\n",
        "\n",
        "# Read in the cleaned data into an attribute dataframe object\n",
        "df_attr = pd.read_csv(attributes_string)"
      ],
      "execution_count": null,
      "outputs": []
    },
    {
      "cell_type": "markdown",
      "metadata": {
        "id": "0s7yIlwojuXC"
      },
      "source": [
        "# 2. Preposessing the Data"
      ]
    },
    {
      "cell_type": "markdown",
      "metadata": {
        "id": "41Ln-vCueqZW"
      },
      "source": [
        "## 2.1 Merging Dataframes\n"
      ]
    },
    {
      "cell_type": "code",
      "metadata": {
        "id": "HEJsDtCjcrFI",
        "outputId": "99ee2078-7b8b-4433-a6cb-c59aaec1fb18",
        "colab": {
          "base_uri": "https://localhost:8080/",
          "height": 419
        }
      },
      "source": [
        "df_brand = df_attr[df_attr.name == \"MFG Brand Name\"][[\"product_uid\", \"value\"]].rename(columns={\"value\": \"brand\"})\n",
        "df_brand"
      ],
      "execution_count": 156,
      "outputs": [
        {
          "output_type": "execute_result",
          "data": {
            "text/html": [
              "<div>\n",
              "<style scoped>\n",
              "    .dataframe tbody tr th:only-of-type {\n",
              "        vertical-align: middle;\n",
              "    }\n",
              "\n",
              "    .dataframe tbody tr th {\n",
              "        vertical-align: top;\n",
              "    }\n",
              "\n",
              "    .dataframe thead th {\n",
              "        text-align: right;\n",
              "    }\n",
              "</style>\n",
              "<table border=\"1\" class=\"dataframe\">\n",
              "  <thead>\n",
              "    <tr style=\"text-align: right;\">\n",
              "      <th></th>\n",
              "      <th>product_uid</th>\n",
              "      <th>brand</th>\n",
              "    </tr>\n",
              "  </thead>\n",
              "  <tbody>\n",
              "    <tr>\n",
              "      <th>9</th>\n",
              "      <td>100001.0</td>\n",
              "      <td>Simpson Strong-Tie</td>\n",
              "    </tr>\n",
              "    <tr>\n",
              "      <th>37</th>\n",
              "      <td>100002.0</td>\n",
              "      <td>BEHR Premium Textured DeckOver</td>\n",
              "    </tr>\n",
              "    <tr>\n",
              "      <th>69</th>\n",
              "      <td>100003.0</td>\n",
              "      <td>STERLING</td>\n",
              "    </tr>\n",
              "    <tr>\n",
              "      <th>93</th>\n",
              "      <td>100004.0</td>\n",
              "      <td>Grape Solar</td>\n",
              "    </tr>\n",
              "    <tr>\n",
              "      <th>122</th>\n",
              "      <td>100005.0</td>\n",
              "      <td>Delta</td>\n",
              "    </tr>\n",
              "    <tr>\n",
              "      <th>...</th>\n",
              "      <td>...</td>\n",
              "      <td>...</td>\n",
              "    </tr>\n",
              "    <tr>\n",
              "      <th>2044702</th>\n",
              "      <td>224422.0</td>\n",
              "      <td>Everbilt</td>\n",
              "    </tr>\n",
              "    <tr>\n",
              "      <th>2044734</th>\n",
              "      <td>224423.0</td>\n",
              "      <td>Coastal Shower Doors</td>\n",
              "    </tr>\n",
              "    <tr>\n",
              "      <th>2044747</th>\n",
              "      <td>224424.0</td>\n",
              "      <td>stufurhome</td>\n",
              "    </tr>\n",
              "    <tr>\n",
              "      <th>2044774</th>\n",
              "      <td>224425.0</td>\n",
              "      <td>Home Decorators Collection</td>\n",
              "    </tr>\n",
              "    <tr>\n",
              "      <th>2044795</th>\n",
              "      <td>224428.0</td>\n",
              "      <td>Bosch</td>\n",
              "    </tr>\n",
              "  </tbody>\n",
              "</table>\n",
              "<p>86250 rows × 2 columns</p>\n",
              "</div>"
            ],
            "text/plain": [
              "         product_uid                           brand\n",
              "9           100001.0              Simpson Strong-Tie\n",
              "37          100002.0  BEHR Premium Textured DeckOver\n",
              "69          100003.0                        STERLING\n",
              "93          100004.0                     Grape Solar\n",
              "122         100005.0                           Delta\n",
              "...              ...                             ...\n",
              "2044702     224422.0                        Everbilt\n",
              "2044734     224423.0            Coastal Shower Doors\n",
              "2044747     224424.0                      stufurhome\n",
              "2044774     224425.0      Home Decorators Collection\n",
              "2044795     224428.0                           Bosch\n",
              "\n",
              "[86250 rows x 2 columns]"
            ]
          },
          "metadata": {
            "tags": []
          },
          "execution_count": 156
        }
      ]
    },
    {
      "cell_type": "code",
      "metadata": {
        "id": "bqmpJ_xNdAPv",
        "outputId": "6edb2867-a260-41fb-cf9c-ac8c63e1020c",
        "colab": {
          "base_uri": "https://localhost:8080/",
          "height": 340
        }
      },
      "source": [
        "df_train_all = pd.merge(df_train, df_pro_desc, how='left', on='product_uid')\n",
        "df_train_all  = pd.merge(df_train_all , df_brand, how = 'left', on = 'product_uid')\n",
        "df_train_all.head()"
      ],
      "execution_count": 157,
      "outputs": [
        {
          "output_type": "execute_result",
          "data": {
            "text/html": [
              "<div>\n",
              "<style scoped>\n",
              "    .dataframe tbody tr th:only-of-type {\n",
              "        vertical-align: middle;\n",
              "    }\n",
              "\n",
              "    .dataframe tbody tr th {\n",
              "        vertical-align: top;\n",
              "    }\n",
              "\n",
              "    .dataframe thead th {\n",
              "        text-align: right;\n",
              "    }\n",
              "</style>\n",
              "<table border=\"1\" class=\"dataframe\">\n",
              "  <thead>\n",
              "    <tr style=\"text-align: right;\">\n",
              "      <th></th>\n",
              "      <th>id</th>\n",
              "      <th>product_uid</th>\n",
              "      <th>product_title</th>\n",
              "      <th>search_term</th>\n",
              "      <th>relevance</th>\n",
              "      <th>product_description</th>\n",
              "      <th>brand</th>\n",
              "    </tr>\n",
              "  </thead>\n",
              "  <tbody>\n",
              "    <tr>\n",
              "      <th>0</th>\n",
              "      <td>2</td>\n",
              "      <td>100001</td>\n",
              "      <td>Simpson Strong-Tie 12-Gauge Angle</td>\n",
              "      <td>angle bracket</td>\n",
              "      <td>3.00</td>\n",
              "      <td>Not only do angles make joints stronger, they ...</td>\n",
              "      <td>Simpson Strong-Tie</td>\n",
              "    </tr>\n",
              "    <tr>\n",
              "      <th>1</th>\n",
              "      <td>3</td>\n",
              "      <td>100001</td>\n",
              "      <td>Simpson Strong-Tie 12-Gauge Angle</td>\n",
              "      <td>l bracket</td>\n",
              "      <td>2.50</td>\n",
              "      <td>Not only do angles make joints stronger, they ...</td>\n",
              "      <td>Simpson Strong-Tie</td>\n",
              "    </tr>\n",
              "    <tr>\n",
              "      <th>2</th>\n",
              "      <td>9</td>\n",
              "      <td>100002</td>\n",
              "      <td>BEHR Premium Textured DeckOver 1-gal. #SC-141 ...</td>\n",
              "      <td>deck over</td>\n",
              "      <td>3.00</td>\n",
              "      <td>BEHR Premium Textured DECKOVER is an innovativ...</td>\n",
              "      <td>BEHR Premium Textured DeckOver</td>\n",
              "    </tr>\n",
              "    <tr>\n",
              "      <th>3</th>\n",
              "      <td>16</td>\n",
              "      <td>100005</td>\n",
              "      <td>Delta Vero 1-Handle Shower Only Faucet Trim Ki...</td>\n",
              "      <td>rain shower head</td>\n",
              "      <td>2.33</td>\n",
              "      <td>Update your bathroom with the Delta Vero Singl...</td>\n",
              "      <td>Delta</td>\n",
              "    </tr>\n",
              "    <tr>\n",
              "      <th>4</th>\n",
              "      <td>17</td>\n",
              "      <td>100005</td>\n",
              "      <td>Delta Vero 1-Handle Shower Only Faucet Trim Ki...</td>\n",
              "      <td>shower only faucet</td>\n",
              "      <td>2.67</td>\n",
              "      <td>Update your bathroom with the Delta Vero Singl...</td>\n",
              "      <td>Delta</td>\n",
              "    </tr>\n",
              "  </tbody>\n",
              "</table>\n",
              "</div>"
            ],
            "text/plain": [
              "   id  ...                           brand\n",
              "0   2  ...              Simpson Strong-Tie\n",
              "1   3  ...              Simpson Strong-Tie\n",
              "2   9  ...  BEHR Premium Textured DeckOver\n",
              "3  16  ...                           Delta\n",
              "4  17  ...                           Delta\n",
              "\n",
              "[5 rows x 7 columns]"
            ]
          },
          "metadata": {
            "tags": []
          },
          "execution_count": 157
        }
      ]
    },
    {
      "cell_type": "code",
      "metadata": {
        "id": "wITUcgRCd455"
      },
      "source": [
        "df_attr_stripped = df_attr\n",
        "df_attr_stripped['name'] = df_attr_stripped['name'].apply(lambda s: re.sub(r\"Bullet([0-9]+)\", \"\", str(s)))"
      ],
      "execution_count": 158,
      "outputs": []
    },
    {
      "cell_type": "code",
      "metadata": {
        "id": "V-DmonPJeH15"
      },
      "source": [
        "# Join the attribute name and value columns together for simplification.\n",
        "# Further testing could be done with these features separate.\n",
        "df_attr_stripped['attribute'] = df_attr_stripped['name'] + \" \" + df_attr_stripped['value']"
      ],
      "execution_count": 159,
      "outputs": []
    },
    {
      "cell_type": "code",
      "metadata": {
        "id": "u53J87y3eTAn",
        "outputId": "7305f014-6231-427d-843e-8cb08073c20d",
        "colab": {
          "base_uri": "https://localhost:8080/",
          "height": 359
        }
      },
      "source": [
        "# Collect the product attributes by product_uid and concatinate their 'attribute' fields into one string\n",
        "# These are separated by a space for obvious processing reasons.\n",
        "df_attr_group = df_attr_stripped.groupby('product_uid').agg({'attribute': lambda s : ' '.join(s.astype(str))}).reset_index()\n",
        "df_attr_group.head(10)"
      ],
      "execution_count": 160,
      "outputs": [
        {
          "output_type": "execute_result",
          "data": {
            "text/html": [
              "<div>\n",
              "<style scoped>\n",
              "    .dataframe tbody tr th:only-of-type {\n",
              "        vertical-align: middle;\n",
              "    }\n",
              "\n",
              "    .dataframe tbody tr th {\n",
              "        vertical-align: top;\n",
              "    }\n",
              "\n",
              "    .dataframe thead th {\n",
              "        text-align: right;\n",
              "    }\n",
              "</style>\n",
              "<table border=\"1\" class=\"dataframe\">\n",
              "  <thead>\n",
              "    <tr style=\"text-align: right;\">\n",
              "      <th></th>\n",
              "      <th>product_uid</th>\n",
              "      <th>attribute</th>\n",
              "    </tr>\n",
              "  </thead>\n",
              "  <tbody>\n",
              "    <tr>\n",
              "      <th>0</th>\n",
              "      <td>100001.0</td>\n",
              "      <td>Versatile connector for various 90Â° connecti...</td>\n",
              "    </tr>\n",
              "    <tr>\n",
              "      <th>1</th>\n",
              "      <td>100002.0</td>\n",
              "      <td>Application Method Brush,Roller,Spray Assemble...</td>\n",
              "    </tr>\n",
              "    <tr>\n",
              "      <th>2</th>\n",
              "      <td>100003.0</td>\n",
              "      <td>Built-in flange Yes  Slightly narrower for tig...</td>\n",
              "    </tr>\n",
              "    <tr>\n",
              "      <th>3</th>\n",
              "      <td>100004.0</td>\n",
              "      <td>Amperage (amps) 8.56  Positive power tolerance...</td>\n",
              "    </tr>\n",
              "    <tr>\n",
              "      <th>4</th>\n",
              "      <td>100005.0</td>\n",
              "      <td>Bath Faucet Type Combo Tub and Shower Built-in...</td>\n",
              "    </tr>\n",
              "    <tr>\n",
              "      <th>5</th>\n",
              "      <td>100006.0</td>\n",
              "      <td>Appliance Type Over the Range Microwave Assemb...</td>\n",
              "    </tr>\n",
              "    <tr>\n",
              "      <th>6</th>\n",
              "      <td>100007.0</td>\n",
              "      <td>Battery Power Type Ni-Cad Battery Size .Built-...</td>\n",
              "    </tr>\n",
              "    <tr>\n",
              "      <th>7</th>\n",
              "      <td>100008.0</td>\n",
              "      <td>Assembled Depth (in.) .375 in Assembled Height...</td>\n",
              "    </tr>\n",
              "    <tr>\n",
              "      <th>8</th>\n",
              "      <td>100009.0</td>\n",
              "      <td>Application Door &amp; Window  Made of primed MDF ...</td>\n",
              "    </tr>\n",
              "    <tr>\n",
              "      <th>9</th>\n",
              "      <td>100010.0</td>\n",
              "      <td>Attachable No  Can be used with all valley Vie...</td>\n",
              "    </tr>\n",
              "  </tbody>\n",
              "</table>\n",
              "</div>"
            ],
            "text/plain": [
              "   product_uid                                          attribute\n",
              "0     100001.0   Versatile connector for various 90Â° connecti...\n",
              "1     100002.0  Application Method Brush,Roller,Spray Assemble...\n",
              "2     100003.0  Built-in flange Yes  Slightly narrower for tig...\n",
              "3     100004.0  Amperage (amps) 8.56  Positive power tolerance...\n",
              "4     100005.0  Bath Faucet Type Combo Tub and Shower Built-in...\n",
              "5     100006.0  Appliance Type Over the Range Microwave Assemb...\n",
              "6     100007.0  Battery Power Type Ni-Cad Battery Size .Built-...\n",
              "7     100008.0  Assembled Depth (in.) .375 in Assembled Height...\n",
              "8     100009.0  Application Door & Window  Made of primed MDF ...\n",
              "9     100010.0  Attachable No  Can be used with all valley Vie..."
            ]
          },
          "metadata": {
            "tags": []
          },
          "execution_count": 160
        }
      ]
    },
    {
      "cell_type": "code",
      "metadata": {
        "id": "OfFArXr1eoQE",
        "outputId": "fe1b4ea3-8754-45e5-a1ed-6602f7ce75cc",
        "colab": {
          "base_uri": "https://localhost:8080/",
          "height": 479
        }
      },
      "source": [
        "# Merge in the collected attributes\n",
        "df_train_all = pd.merge(df_train_all, df_attr_group, how = 'left', on = 'product_uid')\n",
        "df_train_all.head()"
      ],
      "execution_count": 161,
      "outputs": [
        {
          "output_type": "execute_result",
          "data": {
            "text/html": [
              "<div>\n",
              "<style scoped>\n",
              "    .dataframe tbody tr th:only-of-type {\n",
              "        vertical-align: middle;\n",
              "    }\n",
              "\n",
              "    .dataframe tbody tr th {\n",
              "        vertical-align: top;\n",
              "    }\n",
              "\n",
              "    .dataframe thead th {\n",
              "        text-align: right;\n",
              "    }\n",
              "</style>\n",
              "<table border=\"1\" class=\"dataframe\">\n",
              "  <thead>\n",
              "    <tr style=\"text-align: right;\">\n",
              "      <th></th>\n",
              "      <th>id</th>\n",
              "      <th>product_uid</th>\n",
              "      <th>product_title</th>\n",
              "      <th>search_term</th>\n",
              "      <th>relevance</th>\n",
              "      <th>product_description</th>\n",
              "      <th>brand</th>\n",
              "      <th>attribute</th>\n",
              "    </tr>\n",
              "  </thead>\n",
              "  <tbody>\n",
              "    <tr>\n",
              "      <th>0</th>\n",
              "      <td>2</td>\n",
              "      <td>100001</td>\n",
              "      <td>Simpson Strong-Tie 12-Gauge Angle</td>\n",
              "      <td>angle bracket</td>\n",
              "      <td>3.00</td>\n",
              "      <td>Not only do angles make joints stronger, they ...</td>\n",
              "      <td>Simpson Strong-Tie</td>\n",
              "      <td>Versatile connector for various 90Â° connecti...</td>\n",
              "    </tr>\n",
              "    <tr>\n",
              "      <th>1</th>\n",
              "      <td>3</td>\n",
              "      <td>100001</td>\n",
              "      <td>Simpson Strong-Tie 12-Gauge Angle</td>\n",
              "      <td>l bracket</td>\n",
              "      <td>2.50</td>\n",
              "      <td>Not only do angles make joints stronger, they ...</td>\n",
              "      <td>Simpson Strong-Tie</td>\n",
              "      <td>Versatile connector for various 90Â° connecti...</td>\n",
              "    </tr>\n",
              "    <tr>\n",
              "      <th>2</th>\n",
              "      <td>9</td>\n",
              "      <td>100002</td>\n",
              "      <td>BEHR Premium Textured DeckOver 1-gal. #SC-141 ...</td>\n",
              "      <td>deck over</td>\n",
              "      <td>3.00</td>\n",
              "      <td>BEHR Premium Textured DECKOVER is an innovativ...</td>\n",
              "      <td>BEHR Premium Textured DeckOver</td>\n",
              "      <td>Application Method Brush,Roller,Spray Assemble...</td>\n",
              "    </tr>\n",
              "    <tr>\n",
              "      <th>3</th>\n",
              "      <td>16</td>\n",
              "      <td>100005</td>\n",
              "      <td>Delta Vero 1-Handle Shower Only Faucet Trim Ki...</td>\n",
              "      <td>rain shower head</td>\n",
              "      <td>2.33</td>\n",
              "      <td>Update your bathroom with the Delta Vero Singl...</td>\n",
              "      <td>Delta</td>\n",
              "      <td>Bath Faucet Type Combo Tub and Shower Built-in...</td>\n",
              "    </tr>\n",
              "    <tr>\n",
              "      <th>4</th>\n",
              "      <td>17</td>\n",
              "      <td>100005</td>\n",
              "      <td>Delta Vero 1-Handle Shower Only Faucet Trim Ki...</td>\n",
              "      <td>shower only faucet</td>\n",
              "      <td>2.67</td>\n",
              "      <td>Update your bathroom with the Delta Vero Singl...</td>\n",
              "      <td>Delta</td>\n",
              "      <td>Bath Faucet Type Combo Tub and Shower Built-in...</td>\n",
              "    </tr>\n",
              "  </tbody>\n",
              "</table>\n",
              "</div>"
            ],
            "text/plain": [
              "   id  ...                                          attribute\n",
              "0   2  ...   Versatile connector for various 90Â° connecti...\n",
              "1   3  ...   Versatile connector for various 90Â° connecti...\n",
              "2   9  ...  Application Method Brush,Roller,Spray Assemble...\n",
              "3  16  ...  Bath Faucet Type Combo Tub and Shower Built-in...\n",
              "4  17  ...  Bath Faucet Type Combo Tub and Shower Built-in...\n",
              "\n",
              "[5 rows x 8 columns]"
            ]
          },
          "metadata": {
            "tags": []
          },
          "execution_count": 161
        }
      ]
    },
    {
      "cell_type": "code",
      "metadata": {
        "id": "6FYJ8pxxgsPD",
        "outputId": "0780f6ee-40b1-4970-8b60-50b4e8ada2ce",
        "colab": {
          "base_uri": "https://localhost:8080/",
          "height": 272
        }
      },
      "source": [
        "df_train_all.info()"
      ],
      "execution_count": 162,
      "outputs": [
        {
          "output_type": "stream",
          "text": [
            "<class 'pandas.core.frame.DataFrame'>\n",
            "Int64Index: 74067 entries, 0 to 74066\n",
            "Data columns (total 8 columns):\n",
            " #   Column               Non-Null Count  Dtype  \n",
            "---  ------               --------------  -----  \n",
            " 0   id                   74067 non-null  int64  \n",
            " 1   product_uid          74067 non-null  int64  \n",
            " 2   product_title        74067 non-null  object \n",
            " 3   search_term          74067 non-null  object \n",
            " 4   relevance            74067 non-null  float64\n",
            " 5   product_description  74067 non-null  object \n",
            " 6   brand                56439 non-null  object \n",
            " 7   attribute            56547 non-null  object \n",
            "dtypes: float64(1), int64(2), object(5)\n",
            "memory usage: 5.1+ MB\n"
          ],
          "name": "stdout"
        }
      ]
    },
    {
      "cell_type": "code",
      "metadata": {
        "id": "P_RQvHF7qOUt"
      },
      "source": [
        "# Defines a function which counts the number of measurement units\n",
        "# which are common between each string\n",
        "\n",
        "def str_count_common_units(dataframe):\n",
        "    count = 0\n",
        "    tmpWords1 = dataframe['search_term'].split()\n",
        "    tmpWords2 = dataframe['product_info'].split()\n",
        "    # Note that sq.ft. and cu.ft. have had ft. removed to prevent\n",
        "    # overweighting of feet units\n",
        "    # (Since ft. and cu.ft. both have 'ft.')\n",
        "    # The set defined below is taken from the regex replacements performed\n",
        "    # in the \"string_edit\" \n",
        "    for unit in {'in.', 'ft.', 'lb.', 'sq.', \n",
        "                 'cu.', 'gal.', 'oz.', 'cm.',\n",
        "                 'mm.', 'deg.', 'volt.', 'watt.',\n",
        "                 'amp.'}:\n",
        "        for word1 in tmpWords1:\n",
        "            for word2 in tmpWords2:\n",
        "                if word1.find(unit) > -1 and word2.find(unit) > -1:\n",
        "                    count += 1\n",
        "        \n",
        "    return count\n",
        "from matplotlib import colors as mcolors\n",
        "# Define a list of string representations of colors (corpus provided through matplotlib)\n",
        "# This is defined outside the function to improve performance.\n",
        "colors_keys = list(dict(mcolors.BASE_COLORS, **mcolors.CSS4_COLORS).keys())\n",
        "\n",
        "# Counts the number of color terms which are common between the search term instances and\n",
        "# the product info instances.\n",
        "# Note that product_info is comprised of title, description, and attributes.\n",
        "# This feature is created in a later step.\n",
        "def str_count_same_colors(dataframe):\n",
        "    count = 0\n",
        "    tmpWords1 = dataframe['search_term'].split()\n",
        "    tmpWords2 = dataframe['product_info'].split()\n",
        "    \n",
        "    for word1 in tmpWords1:\n",
        "        for word2 in tmpWords2:\n",
        "            if word1 == word2 and word1 in colors_keys:\n",
        "                count += 1\n",
        "        \n",
        "    return count"
      ],
      "execution_count": 163,
      "outputs": []
    },
    {
      "cell_type": "code",
      "metadata": {
        "id": "YU9OuVQ0g-eR",
        "outputId": "b32561e9-cb00-4467-8cf1-e976d1bbc480",
        "colab": {
          "base_uri": "https://localhost:8080/",
          "height": 479
        }
      },
      "source": [
        "# there are enough data to work with after removing the rows with missing value\n",
        "df_train_all=df_train_all.dropna()\n",
        "df_train_all['product_info'] = df_train_all['search_term']+'\\t'+df_train_all['product_title']+'\\t'+df_train_all['product_description']+'\\t'+df_train_all['attribute']\n",
        "\n",
        "df_train_all.head()"
      ],
      "execution_count": 164,
      "outputs": [
        {
          "output_type": "execute_result",
          "data": {
            "text/html": [
              "<div>\n",
              "<style scoped>\n",
              "    .dataframe tbody tr th:only-of-type {\n",
              "        vertical-align: middle;\n",
              "    }\n",
              "\n",
              "    .dataframe tbody tr th {\n",
              "        vertical-align: top;\n",
              "    }\n",
              "\n",
              "    .dataframe thead th {\n",
              "        text-align: right;\n",
              "    }\n",
              "</style>\n",
              "<table border=\"1\" class=\"dataframe\">\n",
              "  <thead>\n",
              "    <tr style=\"text-align: right;\">\n",
              "      <th></th>\n",
              "      <th>id</th>\n",
              "      <th>product_uid</th>\n",
              "      <th>product_title</th>\n",
              "      <th>search_term</th>\n",
              "      <th>relevance</th>\n",
              "      <th>product_description</th>\n",
              "      <th>brand</th>\n",
              "      <th>attribute</th>\n",
              "      <th>product_info</th>\n",
              "    </tr>\n",
              "  </thead>\n",
              "  <tbody>\n",
              "    <tr>\n",
              "      <th>0</th>\n",
              "      <td>2</td>\n",
              "      <td>100001</td>\n",
              "      <td>Simpson Strong-Tie 12-Gauge Angle</td>\n",
              "      <td>angle bracket</td>\n",
              "      <td>3.00</td>\n",
              "      <td>Not only do angles make joints stronger, they ...</td>\n",
              "      <td>Simpson Strong-Tie</td>\n",
              "      <td>Versatile connector for various 90Â° connecti...</td>\n",
              "      <td>angle bracket\\tSimpson Strong-Tie 12-Gauge Ang...</td>\n",
              "    </tr>\n",
              "    <tr>\n",
              "      <th>1</th>\n",
              "      <td>3</td>\n",
              "      <td>100001</td>\n",
              "      <td>Simpson Strong-Tie 12-Gauge Angle</td>\n",
              "      <td>l bracket</td>\n",
              "      <td>2.50</td>\n",
              "      <td>Not only do angles make joints stronger, they ...</td>\n",
              "      <td>Simpson Strong-Tie</td>\n",
              "      <td>Versatile connector for various 90Â° connecti...</td>\n",
              "      <td>l bracket\\tSimpson Strong-Tie 12-Gauge Angle\\t...</td>\n",
              "    </tr>\n",
              "    <tr>\n",
              "      <th>2</th>\n",
              "      <td>9</td>\n",
              "      <td>100002</td>\n",
              "      <td>BEHR Premium Textured DeckOver 1-gal. #SC-141 ...</td>\n",
              "      <td>deck over</td>\n",
              "      <td>3.00</td>\n",
              "      <td>BEHR Premium Textured DECKOVER is an innovativ...</td>\n",
              "      <td>BEHR Premium Textured DeckOver</td>\n",
              "      <td>Application Method Brush,Roller,Spray Assemble...</td>\n",
              "      <td>deck over\\tBEHR Premium Textured DeckOver 1-ga...</td>\n",
              "    </tr>\n",
              "    <tr>\n",
              "      <th>3</th>\n",
              "      <td>16</td>\n",
              "      <td>100005</td>\n",
              "      <td>Delta Vero 1-Handle Shower Only Faucet Trim Ki...</td>\n",
              "      <td>rain shower head</td>\n",
              "      <td>2.33</td>\n",
              "      <td>Update your bathroom with the Delta Vero Singl...</td>\n",
              "      <td>Delta</td>\n",
              "      <td>Bath Faucet Type Combo Tub and Shower Built-in...</td>\n",
              "      <td>rain shower head\\tDelta Vero 1-Handle Shower O...</td>\n",
              "    </tr>\n",
              "    <tr>\n",
              "      <th>4</th>\n",
              "      <td>17</td>\n",
              "      <td>100005</td>\n",
              "      <td>Delta Vero 1-Handle Shower Only Faucet Trim Ki...</td>\n",
              "      <td>shower only faucet</td>\n",
              "      <td>2.67</td>\n",
              "      <td>Update your bathroom with the Delta Vero Singl...</td>\n",
              "      <td>Delta</td>\n",
              "      <td>Bath Faucet Type Combo Tub and Shower Built-in...</td>\n",
              "      <td>shower only faucet\\tDelta Vero 1-Handle Shower...</td>\n",
              "    </tr>\n",
              "  </tbody>\n",
              "</table>\n",
              "</div>"
            ],
            "text/plain": [
              "   id  ...                                       product_info\n",
              "0   2  ...  angle bracket\\tSimpson Strong-Tie 12-Gauge Ang...\n",
              "1   3  ...  l bracket\\tSimpson Strong-Tie 12-Gauge Angle\\t...\n",
              "2   9  ...  deck over\\tBEHR Premium Textured DeckOver 1-ga...\n",
              "3  16  ...  rain shower head\\tDelta Vero 1-Handle Shower O...\n",
              "4  17  ...  shower only faucet\\tDelta Vero 1-Handle Shower...\n",
              "\n",
              "[5 rows x 9 columns]"
            ]
          },
          "metadata": {
            "tags": []
          },
          "execution_count": 164
        }
      ]
    },
    {
      "cell_type": "code",
      "metadata": {
        "id": "jZDiWbMAqQq0"
      },
      "source": [
        "# Need to create a temporary dataframe to collect the title, description, and attributes for units and color analysis\n",
        "df_tmp = pd.DataFrame()\n",
        "df_tmp['search_term'] = df_train_all['search_term']\n",
        "df_tmp['product_info'] = df_train_all['product_title']+\" \"+df_train_all['product_description']+\" \"+df_train_all['attribute']\n",
        "\n",
        "# New Feature: The number of common units of measurement between search terms and product_info\n",
        "# Calculate the number of unit string instances that are common and store in a new feature\n",
        "# Common between: search_term and (product_title + product_description + attribute)\n",
        "df_train_all['num_common_units_measurement'] = df_tmp.apply(str_count_common_units, axis=1)\n",
        "\n",
        "# New Feature: The number of common color terms between search terms and product_info\n",
        "# Call the common colors function and store the result in a new feature for later use\n",
        "df_train_all['num_common_colors'] = df_tmp.apply(str_count_same_colors, axis=1)"
      ],
      "execution_count": 165,
      "outputs": []
    },
    {
      "cell_type": "code",
      "metadata": {
        "id": "UtJ9Gq7lqy6M",
        "outputId": "8b4ade4f-0280-4611-87c4-7547c396f73c",
        "colab": {
          "base_uri": "https://localhost:8080/",
          "height": 323
        }
      },
      "source": [
        "df_train_all.info()\n"
      ],
      "execution_count": 166,
      "outputs": [
        {
          "output_type": "stream",
          "text": [
            "<class 'pandas.core.frame.DataFrame'>\n",
            "Int64Index: 56439 entries, 0 to 74066\n",
            "Data columns (total 11 columns):\n",
            " #   Column                        Non-Null Count  Dtype  \n",
            "---  ------                        --------------  -----  \n",
            " 0   id                            56439 non-null  int64  \n",
            " 1   product_uid                   56439 non-null  int64  \n",
            " 2   product_title                 56439 non-null  object \n",
            " 3   search_term                   56439 non-null  object \n",
            " 4   relevance                     56439 non-null  float64\n",
            " 5   product_description           56439 non-null  object \n",
            " 6   brand                         56439 non-null  object \n",
            " 7   attribute                     56439 non-null  object \n",
            " 8   product_info                  56439 non-null  object \n",
            " 9   num_common_units_measurement  56439 non-null  int64  \n",
            " 10  num_common_colors             56439 non-null  int64  \n",
            "dtypes: float64(1), int64(4), object(6)\n",
            "memory usage: 5.2+ MB\n"
          ],
          "name": "stdout"
        }
      ]
    },
    {
      "cell_type": "code",
      "metadata": {
        "id": "sE0YqRBM_RLF",
        "outputId": "01131676-736b-40fe-f98d-7a06eca82349",
        "colab": {
          "base_uri": "https://localhost:8080/",
          "height": 17
        }
      },
      "source": [
        "#saving processed file to local machine\n",
        "\n",
        "df_train_all.to_csv('df_train_all.csv') \n",
        "files.download('df_train_all.csv')"
      ],
      "execution_count": 167,
      "outputs": [
        {
          "output_type": "display_data",
          "data": {
            "application/javascript": [
              "\n",
              "    async function download(id, filename, size) {\n",
              "      if (!google.colab.kernel.accessAllowed) {\n",
              "        return;\n",
              "      }\n",
              "      const div = document.createElement('div');\n",
              "      const label = document.createElement('label');\n",
              "      label.textContent = `Downloading \"${filename}\": `;\n",
              "      div.appendChild(label);\n",
              "      const progress = document.createElement('progress');\n",
              "      progress.max = size;\n",
              "      div.appendChild(progress);\n",
              "      document.body.appendChild(div);\n",
              "\n",
              "      const buffers = [];\n",
              "      let downloaded = 0;\n",
              "\n",
              "      const channel = await google.colab.kernel.comms.open(id);\n",
              "      // Send a message to notify the kernel that we're ready.\n",
              "      channel.send({})\n",
              "\n",
              "      for await (const message of channel.messages) {\n",
              "        // Send a message to notify the kernel that we're ready.\n",
              "        channel.send({})\n",
              "        if (message.buffers) {\n",
              "          for (const buffer of message.buffers) {\n",
              "            buffers.push(buffer);\n",
              "            downloaded += buffer.byteLength;\n",
              "            progress.value = downloaded;\n",
              "          }\n",
              "        }\n",
              "      }\n",
              "      const blob = new Blob(buffers, {type: 'application/binary'});\n",
              "      const a = document.createElement('a');\n",
              "      a.href = window.URL.createObjectURL(blob);\n",
              "      a.download = filename;\n",
              "      div.appendChild(a);\n",
              "      a.click();\n",
              "      div.remove();\n",
              "    }\n",
              "  "
            ],
            "text/plain": [
              "<IPython.core.display.Javascript object>"
            ]
          },
          "metadata": {
            "tags": []
          }
        },
        {
          "output_type": "display_data",
          "data": {
            "application/javascript": [
              "download(\"download_777815e2-f17a-47fe-8f41-e1452630378b\", \"df_train_all.csv\", 220824218)"
            ],
            "text/plain": [
              "<IPython.core.display.Javascript object>"
            ]
          },
          "metadata": {
            "tags": []
          }
        }
      ]
    },
    {
      "cell_type": "markdown",
      "metadata": {
        "id": "dxwZvdM_fITk"
      },
      "source": [
        "## 2.2 Stemming\n"
      ]
    },
    {
      "cell_type": "code",
      "metadata": {
        "id": "kdvR_5tlQAZu",
        "outputId": "0abb150a-1864-44ac-ae40-ac326005c2b1",
        "colab": {
          "base_uri": "https://localhost:8080/",
          "height": 68
        }
      },
      "source": [
        "nltk.download('stopwords')"
      ],
      "execution_count": 58,
      "outputs": [
        {
          "output_type": "stream",
          "text": [
            "[nltk_data] Downloading package stopwords to /root/nltk_data...\n",
            "[nltk_data]   Unzipping corpora/stopwords.zip.\n"
          ],
          "name": "stdout"
        },
        {
          "output_type": "execute_result",
          "data": {
            "text/plain": [
              "True"
            ]
          },
          "metadata": {
            "tags": []
          },
          "execution_count": 58
        }
      ]
    },
    {
      "cell_type": "code",
      "metadata": {
        "id": "zVuqxQg_QAZ0",
        "outputId": "e7f2995d-e15a-4c87-a699-5a3b72a11bd0",
        "colab": {
          "base_uri": "https://localhost:8080/",
          "height": 479
        }
      },
      "source": [
        "#clean text\n",
        "def clean_text(text):\n",
        "    stopwords = nltk.corpus.stopwords.words('english')\n",
        "    text = \"\".join([word for word in text if word not in string.punctuation])\n",
        "    tokens = re.split('\\W+', text)\n",
        "    text = [word for word in tokens if word not in stopwords]\n",
        "    return text\n",
        "\n",
        "#stemming\n",
        "ps = nltk.PorterStemmer() # define stemmer\n",
        "df_all_stem = pd.DataFrame()\n",
        "\n",
        "def stemming(tokenized_text):\n",
        "    text = [ps.stem(word) for word in tokenized_text]  #return stemmed word\n",
        "    return text\n",
        "\n",
        "df_all_features = pd.DataFrame()\n",
        "def str_common_word(list1, list2):\n",
        "    list3 = set(list1)&set(list2) \n",
        "    list4 = sorted(list3, key = lambda k : list1.index(k))\n",
        "    return len(list4)\n",
        "\n",
        "def prepare_data (data, col_names):\n",
        "  for n in col_names:\n",
        "    data[n]=data[n].apply(lambda x: clean_text(x.lower()))\n",
        "    data[n]=data[n].apply(lambda x: stemming(x))\n",
        "    \n",
        "df_all_stem=df_train_all\n",
        "df_all_stem.head()"
      ],
      "execution_count": 60,
      "outputs": [
        {
          "output_type": "execute_result",
          "data": {
            "text/html": [
              "<div>\n",
              "<style scoped>\n",
              "    .dataframe tbody tr th:only-of-type {\n",
              "        vertical-align: middle;\n",
              "    }\n",
              "\n",
              "    .dataframe tbody tr th {\n",
              "        vertical-align: top;\n",
              "    }\n",
              "\n",
              "    .dataframe thead th {\n",
              "        text-align: right;\n",
              "    }\n",
              "</style>\n",
              "<table border=\"1\" class=\"dataframe\">\n",
              "  <thead>\n",
              "    <tr style=\"text-align: right;\">\n",
              "      <th></th>\n",
              "      <th>id</th>\n",
              "      <th>product_uid</th>\n",
              "      <th>product_title</th>\n",
              "      <th>search_term</th>\n",
              "      <th>relevance</th>\n",
              "      <th>product_description</th>\n",
              "      <th>brand</th>\n",
              "      <th>attribute</th>\n",
              "      <th>product_info</th>\n",
              "      <th>num_common_units_measurement</th>\n",
              "      <th>num_common_colors</th>\n",
              "    </tr>\n",
              "  </thead>\n",
              "  <tbody>\n",
              "    <tr>\n",
              "      <th>0</th>\n",
              "      <td>2</td>\n",
              "      <td>100001</td>\n",
              "      <td>Simpson Strong-Tie 12-Gauge Angle</td>\n",
              "      <td>angle bracket</td>\n",
              "      <td>3.00</td>\n",
              "      <td>Not only do angles make joints stronger, they ...</td>\n",
              "      <td>Simpson Strong-Tie</td>\n",
              "      <td>Versatile connector for various 90Â° connecti...</td>\n",
              "      <td>angle bracket\\tSimpson Strong-Tie 12-Gauge Ang...</td>\n",
              "      <td>0</td>\n",
              "      <td>0</td>\n",
              "    </tr>\n",
              "    <tr>\n",
              "      <th>1</th>\n",
              "      <td>3</td>\n",
              "      <td>100001</td>\n",
              "      <td>Simpson Strong-Tie 12-Gauge Angle</td>\n",
              "      <td>l bracket</td>\n",
              "      <td>2.50</td>\n",
              "      <td>Not only do angles make joints stronger, they ...</td>\n",
              "      <td>Simpson Strong-Tie</td>\n",
              "      <td>Versatile connector for various 90Â° connecti...</td>\n",
              "      <td>l bracket\\tSimpson Strong-Tie 12-Gauge Angle\\t...</td>\n",
              "      <td>0</td>\n",
              "      <td>0</td>\n",
              "    </tr>\n",
              "    <tr>\n",
              "      <th>2</th>\n",
              "      <td>9</td>\n",
              "      <td>100002</td>\n",
              "      <td>BEHR Premium Textured DeckOver 1-gal. #SC-141 ...</td>\n",
              "      <td>deck over</td>\n",
              "      <td>3.00</td>\n",
              "      <td>BEHR Premium Textured DECKOVER is an innovativ...</td>\n",
              "      <td>BEHR Premium Textured DeckOver</td>\n",
              "      <td>Application Method Brush,Roller,Spray Assemble...</td>\n",
              "      <td>deck over\\tBEHR Premium Textured DeckOver 1-ga...</td>\n",
              "      <td>0</td>\n",
              "      <td>0</td>\n",
              "    </tr>\n",
              "    <tr>\n",
              "      <th>3</th>\n",
              "      <td>16</td>\n",
              "      <td>100005</td>\n",
              "      <td>Delta Vero 1-Handle Shower Only Faucet Trim Ki...</td>\n",
              "      <td>rain shower head</td>\n",
              "      <td>2.33</td>\n",
              "      <td>Update your bathroom with the Delta Vero Singl...</td>\n",
              "      <td>Delta</td>\n",
              "      <td>Bath Faucet Type Combo Tub and Shower Built-in...</td>\n",
              "      <td>rain shower head\\tDelta Vero 1-Handle Shower O...</td>\n",
              "      <td>0</td>\n",
              "      <td>0</td>\n",
              "    </tr>\n",
              "    <tr>\n",
              "      <th>4</th>\n",
              "      <td>17</td>\n",
              "      <td>100005</td>\n",
              "      <td>Delta Vero 1-Handle Shower Only Faucet Trim Ki...</td>\n",
              "      <td>shower only faucet</td>\n",
              "      <td>2.67</td>\n",
              "      <td>Update your bathroom with the Delta Vero Singl...</td>\n",
              "      <td>Delta</td>\n",
              "      <td>Bath Faucet Type Combo Tub and Shower Built-in...</td>\n",
              "      <td>shower only faucet\\tDelta Vero 1-Handle Shower...</td>\n",
              "      <td>0</td>\n",
              "      <td>0</td>\n",
              "    </tr>\n",
              "  </tbody>\n",
              "</table>\n",
              "</div>"
            ],
            "text/plain": [
              "   id  product_uid  ... num_common_units_measurement num_common_colors\n",
              "0   2       100001  ...                            0                 0\n",
              "1   3       100001  ...                            0                 0\n",
              "2   9       100002  ...                            0                 0\n",
              "3  16       100005  ...                            0                 0\n",
              "4  17       100005  ...                            0                 0\n",
              "\n",
              "[5 rows x 11 columns]"
            ]
          },
          "metadata": {
            "tags": []
          },
          "execution_count": 60
        }
      ]
    },
    {
      "cell_type": "code",
      "metadata": {
        "id": "pH2OSZDim8fq"
      },
      "source": [
        "df_all_stem=df_train_all.copy()\n",
        "col_names=[\"attribute\"]\n",
        "col_names=[\"product_title\",\"search_term\",\"product_description\",\"brand\",\"attribute\"]\n",
        "prepare_data (df_all_stem, col_names)"
      ],
      "execution_count": 61,
      "outputs": []
    },
    {
      "cell_type": "code",
      "metadata": {
        "id": "N81TY8jgoqx-",
        "outputId": "b3cfa2b8-8ac4-4b88-da87-2741a34a00f9",
        "colab": {
          "base_uri": "https://localhost:8080/",
          "height": 949
        }
      },
      "source": [
        "df_all_stem.info()"
      ],
      "execution_count": 150,
      "outputs": [
        {
          "output_type": "execute_result",
          "data": {
            "text/html": [
              "<div>\n",
              "<style scoped>\n",
              "    .dataframe tbody tr th:only-of-type {\n",
              "        vertical-align: middle;\n",
              "    }\n",
              "\n",
              "    .dataframe tbody tr th {\n",
              "        vertical-align: top;\n",
              "    }\n",
              "\n",
              "    .dataframe thead th {\n",
              "        text-align: right;\n",
              "    }\n",
              "</style>\n",
              "<table border=\"1\" class=\"dataframe\">\n",
              "  <thead>\n",
              "    <tr style=\"text-align: right;\">\n",
              "      <th></th>\n",
              "      <th>id</th>\n",
              "      <th>product_uid</th>\n",
              "      <th>product_title</th>\n",
              "      <th>search_term</th>\n",
              "      <th>relevance</th>\n",
              "      <th>product_description</th>\n",
              "      <th>brand</th>\n",
              "      <th>attribute</th>\n",
              "      <th>product_info</th>\n",
              "      <th>num_common_units_measurement</th>\n",
              "      <th>num_common_colors</th>\n",
              "    </tr>\n",
              "  </thead>\n",
              "  <tbody>\n",
              "    <tr>\n",
              "      <th>0</th>\n",
              "      <td>2</td>\n",
              "      <td>100001</td>\n",
              "      <td>[simpson, strongti, 12gaug, angl]</td>\n",
              "      <td>[angl, bracket]</td>\n",
              "      <td>3.00</td>\n",
              "      <td>[angl, make, joint, stronger, also, provid, co...</td>\n",
              "      <td>[simpson, strongti]</td>\n",
              "      <td>[, versatil, connector, variou, 90â, connect, ...</td>\n",
              "      <td>angle bracket\\tSimpson Strong-Tie 12-Gauge Ang...</td>\n",
              "      <td>0</td>\n",
              "      <td>0</td>\n",
              "    </tr>\n",
              "    <tr>\n",
              "      <th>1</th>\n",
              "      <td>3</td>\n",
              "      <td>100001</td>\n",
              "      <td>[simpson, strongti, 12gaug, angl]</td>\n",
              "      <td>[l, bracket]</td>\n",
              "      <td>2.50</td>\n",
              "      <td>[angl, make, joint, stronger, also, provid, co...</td>\n",
              "      <td>[simpson, strongti]</td>\n",
              "      <td>[, versatil, connector, variou, 90â, connect, ...</td>\n",
              "      <td>l bracket\\tSimpson Strong-Tie 12-Gauge Angle\\t...</td>\n",
              "      <td>0</td>\n",
              "      <td>0</td>\n",
              "    </tr>\n",
              "    <tr>\n",
              "      <th>2</th>\n",
              "      <td>9</td>\n",
              "      <td>100002</td>\n",
              "      <td>[behr, premium, textur, deckov, 1gal, sc141, t...</td>\n",
              "      <td>[deck]</td>\n",
              "      <td>3.00</td>\n",
              "      <td>[behr, premium, textur, deckov, innov, solid, ...</td>\n",
              "      <td>[behr, premium, textur, deckov]</td>\n",
              "      <td>[applic, method, brushrollerspray, assembl, de...</td>\n",
              "      <td>deck over\\tBEHR Premium Textured DeckOver 1-ga...</td>\n",
              "      <td>0</td>\n",
              "      <td>0</td>\n",
              "    </tr>\n",
              "    <tr>\n",
              "      <th>3</th>\n",
              "      <td>16</td>\n",
              "      <td>100005</td>\n",
              "      <td>[delta, vero, 1handl, shower, faucet, trim, ki...</td>\n",
              "      <td>[rain, shower, head]</td>\n",
              "      <td>2.33</td>\n",
              "      <td>[updat, bathroom, delta, vero, singlehandl, sh...</td>\n",
              "      <td>[delta]</td>\n",
              "      <td>[bath, faucet, type, combo, tub, shower, built...</td>\n",
              "      <td>rain shower head\\tDelta Vero 1-Handle Shower O...</td>\n",
              "      <td>0</td>\n",
              "      <td>0</td>\n",
              "    </tr>\n",
              "    <tr>\n",
              "      <th>4</th>\n",
              "      <td>17</td>\n",
              "      <td>100005</td>\n",
              "      <td>[delta, vero, 1handl, shower, faucet, trim, ki...</td>\n",
              "      <td>[shower, faucet]</td>\n",
              "      <td>2.67</td>\n",
              "      <td>[updat, bathroom, delta, vero, singlehandl, sh...</td>\n",
              "      <td>[delta]</td>\n",
              "      <td>[bath, faucet, type, combo, tub, shower, built...</td>\n",
              "      <td>shower only faucet\\tDelta Vero 1-Handle Shower...</td>\n",
              "      <td>0</td>\n",
              "      <td>0</td>\n",
              "    </tr>\n",
              "    <tr>\n",
              "      <th>...</th>\n",
              "      <td>...</td>\n",
              "      <td>...</td>\n",
              "      <td>...</td>\n",
              "      <td>...</td>\n",
              "      <td>...</td>\n",
              "      <td>...</td>\n",
              "      <td>...</td>\n",
              "      <td>...</td>\n",
              "      <td>...</td>\n",
              "      <td>...</td>\n",
              "      <td>...</td>\n",
              "    </tr>\n",
              "    <tr>\n",
              "      <th>74062</th>\n",
              "      <td>221457</td>\n",
              "      <td>206638</td>\n",
              "      <td>[atlant, windowpan, 576, cd, 192, dvd, bluray,...</td>\n",
              "      <td>[tv, riser, glass]</td>\n",
              "      <td>1.00</td>\n",
              "      <td>[atlant, inc, 94835722, uniqu, design, maximum...</td>\n",
              "      <td>[atlant]</td>\n",
              "      <td>[assembl, depth, 95, assembl, height, 49, asse...</td>\n",
              "      <td>tv riser glass\\tAtlantic Windowpane 576 CD or ...</td>\n",
              "      <td>0</td>\n",
              "      <td>0</td>\n",
              "    </tr>\n",
              "    <tr>\n",
              "      <th>74063</th>\n",
              "      <td>221458</td>\n",
              "      <td>206639</td>\n",
              "      <td>[philip, 40watt, halogen, r20, flood, light, b...</td>\n",
              "      <td>[r20, halogen, light]</td>\n",
              "      <td>3.00</td>\n",
              "      <td>[philip, energi, advantag, lamp, use, less, en...</td>\n",
              "      <td>[philip]</td>\n",
              "      <td>[actual, color, temperatur, k, 2700, averag, l...</td>\n",
              "      <td>r20 halogen light\\tPhilips 40-Watt Halogen R20...</td>\n",
              "      <td>0</td>\n",
              "      <td>0</td>\n",
              "    </tr>\n",
              "    <tr>\n",
              "      <th>74064</th>\n",
              "      <td>221463</td>\n",
              "      <td>206641</td>\n",
              "      <td>[schlage, camelot, inact, age, bronz, handlese...</td>\n",
              "      <td>[schlage, lock, siena, half, dummi, knob]</td>\n",
              "      <td>2.33</td>\n",
              "      <td>[schlage, camelot, inact, age, bronz, handlese...</td>\n",
              "      <td>[schlage]</td>\n",
              "      <td>[applic, type, entri, assembl, depth, 29, asse...</td>\n",
              "      <td>schlage lock siena half dummy knob with\\tSchla...</td>\n",
              "      <td>0</td>\n",
              "      <td>0</td>\n",
              "    </tr>\n",
              "    <tr>\n",
              "      <th>74065</th>\n",
              "      <td>221471</td>\n",
              "      <td>206648</td>\n",
              "      <td>[plastec, 11, x, 24, rose, garden, wall, decor...</td>\n",
              "      <td>[zen, garden, decor]</td>\n",
              "      <td>3.00</td>\n",
              "      <td>[rose, garden, inspir, popular, earli, 20th, c...</td>\n",
              "      <td>[plastec]</td>\n",
              "      <td>[, indoor, outdoor, use, finish, dark, bronz, ...</td>\n",
              "      <td>zen garden  decor\\tPlastec 11 in. x 24 in. Ros...</td>\n",
              "      <td>0</td>\n",
              "      <td>0</td>\n",
              "    </tr>\n",
              "    <tr>\n",
              "      <th>74066</th>\n",
              "      <td>221473</td>\n",
              "      <td>206650</td>\n",
              "      <td>[lichtenberg, pool, blue, 918, millenni, ryan,...</td>\n",
              "      <td>[fine, sheer, curtain, 63, inch]</td>\n",
              "      <td>2.33</td>\n",
              "      <td>[918, millenni, ryan, heather, textur, semish,...</td>\n",
              "      <td>[lichtenberg]</td>\n",
              "      <td>[assembl, depth, 1, assembl, height, 63, assem...</td>\n",
              "      <td>fine sheer curtain 63 inches\\tLICHTENBERG Pool...</td>\n",
              "      <td>0</td>\n",
              "      <td>0</td>\n",
              "    </tr>\n",
              "  </tbody>\n",
              "</table>\n",
              "<p>56439 rows × 11 columns</p>\n",
              "</div>"
            ],
            "text/plain": [
              "           id  product_uid  ... num_common_units_measurement num_common_colors\n",
              "0           2       100001  ...                            0                 0\n",
              "1           3       100001  ...                            0                 0\n",
              "2           9       100002  ...                            0                 0\n",
              "3          16       100005  ...                            0                 0\n",
              "4          17       100005  ...                            0                 0\n",
              "...       ...          ...  ...                          ...               ...\n",
              "74062  221457       206638  ...                            0                 0\n",
              "74063  221458       206639  ...                            0                 0\n",
              "74064  221463       206641  ...                            0                 0\n",
              "74065  221471       206648  ...                            0                 0\n",
              "74066  221473       206650  ...                            0                 0\n",
              "\n",
              "[56439 rows x 11 columns]"
            ]
          },
          "metadata": {
            "tags": []
          },
          "execution_count": 150
        }
      ]
    },
    {
      "cell_type": "markdown",
      "metadata": {
        "id": "NcvIzfnqNRBg"
      },
      "source": [
        "## 2.3. Creating New Features"
      ]
    },
    {
      "cell_type": "code",
      "metadata": {
        "id": "DmSABemXlqae",
        "outputId": "19fe28ca-00f9-436f-d35c-4abae520fc4f",
        "colab": {
          "base_uri": "https://localhost:8080/",
          "height": 479
        }
      },
      "source": [
        "df_all_features = df_all_stem.copy()\n",
        "def str_common_word(str1, str2):\n",
        "    return sum(int(str2.find(word)>=0) for word in str1.split())\n",
        "df_all_features.head()"
      ],
      "execution_count": 63,
      "outputs": [
        {
          "output_type": "execute_result",
          "data": {
            "text/html": [
              "<div>\n",
              "<style scoped>\n",
              "    .dataframe tbody tr th:only-of-type {\n",
              "        vertical-align: middle;\n",
              "    }\n",
              "\n",
              "    .dataframe tbody tr th {\n",
              "        vertical-align: top;\n",
              "    }\n",
              "\n",
              "    .dataframe thead th {\n",
              "        text-align: right;\n",
              "    }\n",
              "</style>\n",
              "<table border=\"1\" class=\"dataframe\">\n",
              "  <thead>\n",
              "    <tr style=\"text-align: right;\">\n",
              "      <th></th>\n",
              "      <th>id</th>\n",
              "      <th>product_uid</th>\n",
              "      <th>product_title</th>\n",
              "      <th>search_term</th>\n",
              "      <th>relevance</th>\n",
              "      <th>product_description</th>\n",
              "      <th>brand</th>\n",
              "      <th>attribute</th>\n",
              "      <th>product_info</th>\n",
              "      <th>num_common_units_measurement</th>\n",
              "      <th>num_common_colors</th>\n",
              "    </tr>\n",
              "  </thead>\n",
              "  <tbody>\n",
              "    <tr>\n",
              "      <th>0</th>\n",
              "      <td>2</td>\n",
              "      <td>100001</td>\n",
              "      <td>[simpson, strongti, 12gaug, angl]</td>\n",
              "      <td>[angl, bracket]</td>\n",
              "      <td>3.00</td>\n",
              "      <td>[angl, make, joint, stronger, also, provid, co...</td>\n",
              "      <td>[simpson, strongti]</td>\n",
              "      <td>[, versatil, connector, variou, 90â, connect, ...</td>\n",
              "      <td>angle bracket\\tSimpson Strong-Tie 12-Gauge Ang...</td>\n",
              "      <td>0</td>\n",
              "      <td>0</td>\n",
              "    </tr>\n",
              "    <tr>\n",
              "      <th>1</th>\n",
              "      <td>3</td>\n",
              "      <td>100001</td>\n",
              "      <td>[simpson, strongti, 12gaug, angl]</td>\n",
              "      <td>[l, bracket]</td>\n",
              "      <td>2.50</td>\n",
              "      <td>[angl, make, joint, stronger, also, provid, co...</td>\n",
              "      <td>[simpson, strongti]</td>\n",
              "      <td>[, versatil, connector, variou, 90â, connect, ...</td>\n",
              "      <td>l bracket\\tSimpson Strong-Tie 12-Gauge Angle\\t...</td>\n",
              "      <td>0</td>\n",
              "      <td>0</td>\n",
              "    </tr>\n",
              "    <tr>\n",
              "      <th>2</th>\n",
              "      <td>9</td>\n",
              "      <td>100002</td>\n",
              "      <td>[behr, premium, textur, deckov, 1gal, sc141, t...</td>\n",
              "      <td>[deck]</td>\n",
              "      <td>3.00</td>\n",
              "      <td>[behr, premium, textur, deckov, innov, solid, ...</td>\n",
              "      <td>[behr, premium, textur, deckov]</td>\n",
              "      <td>[applic, method, brushrollerspray, assembl, de...</td>\n",
              "      <td>deck over\\tBEHR Premium Textured DeckOver 1-ga...</td>\n",
              "      <td>0</td>\n",
              "      <td>0</td>\n",
              "    </tr>\n",
              "    <tr>\n",
              "      <th>3</th>\n",
              "      <td>16</td>\n",
              "      <td>100005</td>\n",
              "      <td>[delta, vero, 1handl, shower, faucet, trim, ki...</td>\n",
              "      <td>[rain, shower, head]</td>\n",
              "      <td>2.33</td>\n",
              "      <td>[updat, bathroom, delta, vero, singlehandl, sh...</td>\n",
              "      <td>[delta]</td>\n",
              "      <td>[bath, faucet, type, combo, tub, shower, built...</td>\n",
              "      <td>rain shower head\\tDelta Vero 1-Handle Shower O...</td>\n",
              "      <td>0</td>\n",
              "      <td>0</td>\n",
              "    </tr>\n",
              "    <tr>\n",
              "      <th>4</th>\n",
              "      <td>17</td>\n",
              "      <td>100005</td>\n",
              "      <td>[delta, vero, 1handl, shower, faucet, trim, ki...</td>\n",
              "      <td>[shower, faucet]</td>\n",
              "      <td>2.67</td>\n",
              "      <td>[updat, bathroom, delta, vero, singlehandl, sh...</td>\n",
              "      <td>[delta]</td>\n",
              "      <td>[bath, faucet, type, combo, tub, shower, built...</td>\n",
              "      <td>shower only faucet\\tDelta Vero 1-Handle Shower...</td>\n",
              "      <td>0</td>\n",
              "      <td>0</td>\n",
              "    </tr>\n",
              "  </tbody>\n",
              "</table>\n",
              "</div>"
            ],
            "text/plain": [
              "   id  product_uid  ... num_common_units_measurement num_common_colors\n",
              "0   2       100001  ...                            0                 0\n",
              "1   3       100001  ...                            0                 0\n",
              "2   9       100002  ...                            0                 0\n",
              "3  16       100005  ...                            0                 0\n",
              "4  17       100005  ...                            0                 0\n",
              "\n",
              "[5 rows x 11 columns]"
            ]
          },
          "metadata": {
            "tags": []
          },
          "execution_count": 63
        }
      ]
    },
    {
      "cell_type": "code",
      "metadata": {
        "id": "IKXEUlsaQAZ_",
        "outputId": "43b4147f-6620-4524-e110-e3ce487e7710",
        "colab": {
          "base_uri": "https://localhost:8080/",
          "height": 479
        }
      },
      "source": [
        "#adding new features\n",
        "df_all_features['len_of_query'] = df_all_features['search_term'].map(lambda x:len(x)).astype(np.int64)\n",
        "df_all_features['word_in_title'] = df_all_features['product_info'].map(lambda x:str_common_word(x[0],x[1]))\n",
        "df_all_features['word_in_description'] = df_all_features['product_info'].map(lambda x:str_common_word(x[0],x[2]))\n",
        "df_all_features['len_of_brand'] = df_all_features['brand'].map(lambda x:len(str(x).split())).astype(np.int64)\n",
        "df_all_features['len_of_attribute'] = df_all_features['attribute'].map(lambda x:len(str(x).split())).astype(np.int64)\n",
        "df_all_features['word_in_title'] = df_all_features['product_info'].map(lambda x:str_common_word(str(x).split('\\t')[0],str(x).split('\\t')[1]))\n",
        "df_all_features['word_in_description'] = df_all_features['product_info'].map(lambda x:str_common_word(str(x).split('\\t')[0],str(x).split('\\t')[2]))\n",
        "df_all_features['word_in_attributes'] = df_all_features['product_info'].map(lambda x:str_common_word(str(x).split('\\t')[0],str(x).split('\\t')[3]))\n",
        "df_all_features['attr'] = str(df_all_features['search_term'])+\"\\t\"+str(df_all_features['brand'])\n",
        "df_all_features['brand_in_search'] = df_all_features['attr'].map(lambda x:str_common_word(str(x).split('\\t')[0],str(x).split('\\t')[1]))\n",
        "df_all_features['ratio_brand'] = df_all_features['brand_in_search']/df_all_features['len_of_brand']\n",
        "df_all_features['last_word_title_match'] = df_all_features['product_info'].map(lambda x:str_common_word(str(x).split('\\t')[0].split(\" \")[-1],str(x).split('\\t')[1]))\n",
        "df_all_features['last_word_description_match'] = df_all_features['product_info'].map(lambda x:str_common_word(str(x).split('\\t')[0].split(\" \")[-1],str(x).split('\\t')[2]))\n",
        "df_all_features['first_word_title_match'] = df_all_features['product_info'].map(lambda x:str_common_word(str(x).split('\\t')[0].split(\" \")[0],str(x).split('\\t')[1]))\n",
        "df_all_features['first_word_description_match'] = df_all_features['product_info'].map(lambda x:str_common_word(str(x).split('\\t')[0].split(\" \")[0],x.split('\\t')[2]))\n",
        "\n",
        "df_all_features.head()"
      ],
      "execution_count": 64,
      "outputs": [
        {
          "output_type": "execute_result",
          "data": {
            "text/html": [
              "<div>\n",
              "<style scoped>\n",
              "    .dataframe tbody tr th:only-of-type {\n",
              "        vertical-align: middle;\n",
              "    }\n",
              "\n",
              "    .dataframe tbody tr th {\n",
              "        vertical-align: top;\n",
              "    }\n",
              "\n",
              "    .dataframe thead th {\n",
              "        text-align: right;\n",
              "    }\n",
              "</style>\n",
              "<table border=\"1\" class=\"dataframe\">\n",
              "  <thead>\n",
              "    <tr style=\"text-align: right;\">\n",
              "      <th></th>\n",
              "      <th>id</th>\n",
              "      <th>product_uid</th>\n",
              "      <th>product_title</th>\n",
              "      <th>search_term</th>\n",
              "      <th>relevance</th>\n",
              "      <th>product_description</th>\n",
              "      <th>brand</th>\n",
              "      <th>attribute</th>\n",
              "      <th>product_info</th>\n",
              "      <th>num_common_units_measurement</th>\n",
              "      <th>num_common_colors</th>\n",
              "      <th>len_of_query</th>\n",
              "      <th>word_in_title</th>\n",
              "      <th>word_in_description</th>\n",
              "      <th>len_of_brand</th>\n",
              "      <th>len_of_attribute</th>\n",
              "      <th>word_in_attributes</th>\n",
              "      <th>attr</th>\n",
              "      <th>brand_in_search</th>\n",
              "      <th>ratio_brand</th>\n",
              "      <th>last_word_title_match</th>\n",
              "      <th>last_word_description_match</th>\n",
              "      <th>first_word_title_match</th>\n",
              "      <th>first_word_description_match</th>\n",
              "    </tr>\n",
              "  </thead>\n",
              "  <tbody>\n",
              "    <tr>\n",
              "      <th>0</th>\n",
              "      <td>2</td>\n",
              "      <td>100001</td>\n",
              "      <td>[simpson, strongti, 12gaug, angl]</td>\n",
              "      <td>[angl, bracket]</td>\n",
              "      <td>3.00</td>\n",
              "      <td>[angl, make, joint, stronger, also, provid, co...</td>\n",
              "      <td>[simpson, strongti]</td>\n",
              "      <td>[, versatil, connector, variou, 90â, connect, ...</td>\n",
              "      <td>angle bracket\\tSimpson Strong-Tie 12-Gauge Ang...</td>\n",
              "      <td>0</td>\n",
              "      <td>0</td>\n",
              "      <td>2</td>\n",
              "      <td>0</td>\n",
              "      <td>1</td>\n",
              "      <td>2</td>\n",
              "      <td>70</td>\n",
              "      <td>1</td>\n",
              "      <td>0                                  [angl, brac...</td>\n",
              "      <td>16</td>\n",
              "      <td>8.0</td>\n",
              "      <td>0</td>\n",
              "      <td>0</td>\n",
              "      <td>0</td>\n",
              "      <td>1</td>\n",
              "    </tr>\n",
              "    <tr>\n",
              "      <th>1</th>\n",
              "      <td>3</td>\n",
              "      <td>100001</td>\n",
              "      <td>[simpson, strongti, 12gaug, angl]</td>\n",
              "      <td>[l, bracket]</td>\n",
              "      <td>2.50</td>\n",
              "      <td>[angl, make, joint, stronger, also, provid, co...</td>\n",
              "      <td>[simpson, strongti]</td>\n",
              "      <td>[, versatil, connector, variou, 90â, connect, ...</td>\n",
              "      <td>l bracket\\tSimpson Strong-Tie 12-Gauge Angle\\t...</td>\n",
              "      <td>0</td>\n",
              "      <td>0</td>\n",
              "      <td>2</td>\n",
              "      <td>1</td>\n",
              "      <td>1</td>\n",
              "      <td>2</td>\n",
              "      <td>70</td>\n",
              "      <td>1</td>\n",
              "      <td>0                                  [angl, brac...</td>\n",
              "      <td>16</td>\n",
              "      <td>8.0</td>\n",
              "      <td>0</td>\n",
              "      <td>0</td>\n",
              "      <td>1</td>\n",
              "      <td>1</td>\n",
              "    </tr>\n",
              "    <tr>\n",
              "      <th>2</th>\n",
              "      <td>9</td>\n",
              "      <td>100002</td>\n",
              "      <td>[behr, premium, textur, deckov, 1gal, sc141, t...</td>\n",
              "      <td>[deck]</td>\n",
              "      <td>3.00</td>\n",
              "      <td>[behr, premium, textur, deckov, innov, solid, ...</td>\n",
              "      <td>[behr, premium, textur, deckov]</td>\n",
              "      <td>[applic, method, brushrollerspray, assembl, de...</td>\n",
              "      <td>deck over\\tBEHR Premium Textured DeckOver 1-ga...</td>\n",
              "      <td>0</td>\n",
              "      <td>0</td>\n",
              "      <td>1</td>\n",
              "      <td>0</td>\n",
              "      <td>2</td>\n",
              "      <td>4</td>\n",
              "      <td>158</td>\n",
              "      <td>2</td>\n",
              "      <td>0                                  [angl, brac...</td>\n",
              "      <td>16</td>\n",
              "      <td>4.0</td>\n",
              "      <td>0</td>\n",
              "      <td>1</td>\n",
              "      <td>0</td>\n",
              "      <td>1</td>\n",
              "    </tr>\n",
              "    <tr>\n",
              "      <th>3</th>\n",
              "      <td>16</td>\n",
              "      <td>100005</td>\n",
              "      <td>[delta, vero, 1handl, shower, faucet, trim, ki...</td>\n",
              "      <td>[rain, shower, head]</td>\n",
              "      <td>2.33</td>\n",
              "      <td>[updat, bathroom, delta, vero, singlehandl, sh...</td>\n",
              "      <td>[delta]</td>\n",
              "      <td>[bath, faucet, type, combo, tub, shower, built...</td>\n",
              "      <td>rain shower head\\tDelta Vero 1-Handle Shower O...</td>\n",
              "      <td>0</td>\n",
              "      <td>0</td>\n",
              "      <td>3</td>\n",
              "      <td>0</td>\n",
              "      <td>0</td>\n",
              "      <td>1</td>\n",
              "      <td>120</td>\n",
              "      <td>2</td>\n",
              "      <td>0                                  [angl, brac...</td>\n",
              "      <td>16</td>\n",
              "      <td>16.0</td>\n",
              "      <td>0</td>\n",
              "      <td>0</td>\n",
              "      <td>0</td>\n",
              "      <td>0</td>\n",
              "    </tr>\n",
              "    <tr>\n",
              "      <th>4</th>\n",
              "      <td>17</td>\n",
              "      <td>100005</td>\n",
              "      <td>[delta, vero, 1handl, shower, faucet, trim, ki...</td>\n",
              "      <td>[shower, faucet]</td>\n",
              "      <td>2.67</td>\n",
              "      <td>[updat, bathroom, delta, vero, singlehandl, sh...</td>\n",
              "      <td>[delta]</td>\n",
              "      <td>[bath, faucet, type, combo, tub, shower, built...</td>\n",
              "      <td>shower only faucet\\tDelta Vero 1-Handle Shower...</td>\n",
              "      <td>0</td>\n",
              "      <td>0</td>\n",
              "      <td>2</td>\n",
              "      <td>0</td>\n",
              "      <td>1</td>\n",
              "      <td>1</td>\n",
              "      <td>120</td>\n",
              "      <td>2</td>\n",
              "      <td>0                                  [angl, brac...</td>\n",
              "      <td>16</td>\n",
              "      <td>16.0</td>\n",
              "      <td>0</td>\n",
              "      <td>0</td>\n",
              "      <td>0</td>\n",
              "      <td>0</td>\n",
              "    </tr>\n",
              "  </tbody>\n",
              "</table>\n",
              "</div>"
            ],
            "text/plain": [
              "   id  product_uid  ... first_word_title_match first_word_description_match\n",
              "0   2       100001  ...                      0                            1\n",
              "1   3       100001  ...                      1                            1\n",
              "2   9       100002  ...                      0                            1\n",
              "3  16       100005  ...                      0                            0\n",
              "4  17       100005  ...                      0                            0\n",
              "\n",
              "[5 rows x 24 columns]"
            ]
          },
          "metadata": {
            "tags": []
          },
          "execution_count": 64
        }
      ]
    },
    {
      "cell_type": "code",
      "metadata": {
        "id": "0k1TD_h10o7w",
        "outputId": "822e4fcc-4be1-42d3-953e-b4e87d4976e4",
        "colab": {
          "base_uri": "https://localhost:8080/",
          "height": 17
        }
      },
      "source": [
        "#saving processed file to local machine\n",
        "\n",
        "df_all_features.to_csv('df_all_features.csv') \n",
        "files.download('df_all_features.csv')"
      ],
      "execution_count": 65,
      "outputs": [
        {
          "output_type": "display_data",
          "data": {
            "application/javascript": [
              "\n",
              "    async function download(id, filename, size) {\n",
              "      if (!google.colab.kernel.accessAllowed) {\n",
              "        return;\n",
              "      }\n",
              "      const div = document.createElement('div');\n",
              "      const label = document.createElement('label');\n",
              "      label.textContent = `Downloading \"${filename}\": `;\n",
              "      div.appendChild(label);\n",
              "      const progress = document.createElement('progress');\n",
              "      progress.max = size;\n",
              "      div.appendChild(progress);\n",
              "      document.body.appendChild(div);\n",
              "\n",
              "      const buffers = [];\n",
              "      let downloaded = 0;\n",
              "\n",
              "      const channel = await google.colab.kernel.comms.open(id);\n",
              "      // Send a message to notify the kernel that we're ready.\n",
              "      channel.send({})\n",
              "\n",
              "      for await (const message of channel.messages) {\n",
              "        // Send a message to notify the kernel that we're ready.\n",
              "        channel.send({})\n",
              "        if (message.buffers) {\n",
              "          for (const buffer of message.buffers) {\n",
              "            buffers.push(buffer);\n",
              "            downloaded += buffer.byteLength;\n",
              "            progress.value = downloaded;\n",
              "          }\n",
              "        }\n",
              "      }\n",
              "      const blob = new Blob(buffers, {type: 'application/binary'});\n",
              "      const a = document.createElement('a');\n",
              "      a.href = window.URL.createObjectURL(blob);\n",
              "      a.download = filename;\n",
              "      div.appendChild(a);\n",
              "      a.click();\n",
              "      div.remove();\n",
              "    }\n",
              "  "
            ],
            "text/plain": [
              "<IPython.core.display.Javascript object>"
            ]
          },
          "metadata": {
            "tags": []
          }
        },
        {
          "output_type": "display_data",
          "data": {
            "application/javascript": [
              "download(\"download_39dc579c-1d66-48e3-8e09-59f65c7757f8\", \"df_all_features.csv\", 294190169)"
            ],
            "text/plain": [
              "<IPython.core.display.Javascript object>"
            ]
          },
          "metadata": {
            "tags": []
          }
        }
      ]
    },
    {
      "cell_type": "code",
      "metadata": {
        "id": "N5xqkZT8vhRX",
        "outputId": "780783fe-7590-4329-d6a9-b3f4a605ab8f",
        "colab": {
          "base_uri": "https://localhost:8080/",
          "height": 544
        }
      },
      "source": [
        "df_all_features.info()"
      ],
      "execution_count": 66,
      "outputs": [
        {
          "output_type": "stream",
          "text": [
            "<class 'pandas.core.frame.DataFrame'>\n",
            "Int64Index: 56439 entries, 0 to 74066\n",
            "Data columns (total 24 columns):\n",
            " #   Column                        Non-Null Count  Dtype  \n",
            "---  ------                        --------------  -----  \n",
            " 0   id                            56439 non-null  int64  \n",
            " 1   product_uid                   56439 non-null  int64  \n",
            " 2   product_title                 56439 non-null  object \n",
            " 3   search_term                   56439 non-null  object \n",
            " 4   relevance                     56439 non-null  float64\n",
            " 5   product_description           56439 non-null  object \n",
            " 6   brand                         56439 non-null  object \n",
            " 7   attribute                     56439 non-null  object \n",
            " 8   product_info                  56439 non-null  object \n",
            " 9   num_common_units_measurement  56439 non-null  int64  \n",
            " 10  num_common_colors             56439 non-null  int64  \n",
            " 11  len_of_query                  56439 non-null  int64  \n",
            " 12  word_in_title                 56439 non-null  int64  \n",
            " 13  word_in_description           56439 non-null  int64  \n",
            " 14  len_of_brand                  56439 non-null  int64  \n",
            " 15  len_of_attribute              56439 non-null  int64  \n",
            " 16  word_in_attributes            56439 non-null  int64  \n",
            " 17  attr                          56439 non-null  object \n",
            " 18  brand_in_search               56439 non-null  int64  \n",
            " 19  ratio_brand                   56439 non-null  float64\n",
            " 20  last_word_title_match         56439 non-null  int64  \n",
            " 21  last_word_description_match   56439 non-null  int64  \n",
            " 22  first_word_title_match        56439 non-null  int64  \n",
            " 23  first_word_description_match  56439 non-null  int64  \n",
            "dtypes: float64(2), int64(15), object(7)\n",
            "memory usage: 10.8+ MB\n"
          ],
          "name": "stdout"
        }
      ]
    },
    {
      "cell_type": "code",
      "metadata": {
        "id": "N_iWfHtHsnnU"
      },
      "source": [
        "df_all_no_emb=df_all_features.copy()\n",
        "emb_features=[\"product_title\",'search_term',\"product_description\",\"brand\",\"attribute\",\"product_info\",'attr']\n",
        "df_all_no_emb=df_all_no_emb.drop(labels=emb_features,axis=1)"
      ],
      "execution_count": 67,
      "outputs": []
    },
    {
      "cell_type": "code",
      "metadata": {
        "id": "HUzn4xE6tmLU",
        "outputId": "40766a74-86cc-45cd-9593-04e810db314e",
        "colab": {
          "base_uri": "https://localhost:8080/",
          "height": 425
        }
      },
      "source": [
        "df_all_no_emb.info()"
      ],
      "execution_count": 68,
      "outputs": [
        {
          "output_type": "stream",
          "text": [
            "<class 'pandas.core.frame.DataFrame'>\n",
            "Int64Index: 56439 entries, 0 to 74066\n",
            "Data columns (total 17 columns):\n",
            " #   Column                        Non-Null Count  Dtype  \n",
            "---  ------                        --------------  -----  \n",
            " 0   id                            56439 non-null  int64  \n",
            " 1   product_uid                   56439 non-null  int64  \n",
            " 2   relevance                     56439 non-null  float64\n",
            " 3   num_common_units_measurement  56439 non-null  int64  \n",
            " 4   num_common_colors             56439 non-null  int64  \n",
            " 5   len_of_query                  56439 non-null  int64  \n",
            " 6   word_in_title                 56439 non-null  int64  \n",
            " 7   word_in_description           56439 non-null  int64  \n",
            " 8   len_of_brand                  56439 non-null  int64  \n",
            " 9   len_of_attribute              56439 non-null  int64  \n",
            " 10  word_in_attributes            56439 non-null  int64  \n",
            " 11  brand_in_search               56439 non-null  int64  \n",
            " 12  ratio_brand                   56439 non-null  float64\n",
            " 13  last_word_title_match         56439 non-null  int64  \n",
            " 14  last_word_description_match   56439 non-null  int64  \n",
            " 15  first_word_title_match        56439 non-null  int64  \n",
            " 16  first_word_description_match  56439 non-null  int64  \n",
            "dtypes: float64(2), int64(15)\n",
            "memory usage: 7.8 MB\n"
          ],
          "name": "stdout"
        }
      ]
    },
    {
      "cell_type": "code",
      "metadata": {
        "id": "cbb5y1eK1adN",
        "outputId": "715fd913-181b-47eb-9326-b23579315883",
        "colab": {
          "base_uri": "https://localhost:8080/",
          "height": 17
        }
      },
      "source": [
        "df_all_no_emb.to_csv('df_all_no_emb.csv') \n",
        "files.download('df_all_no_emb.csv')"
      ],
      "execution_count": 69,
      "outputs": [
        {
          "output_type": "display_data",
          "data": {
            "application/javascript": [
              "\n",
              "    async function download(id, filename, size) {\n",
              "      if (!google.colab.kernel.accessAllowed) {\n",
              "        return;\n",
              "      }\n",
              "      const div = document.createElement('div');\n",
              "      const label = document.createElement('label');\n",
              "      label.textContent = `Downloading \"${filename}\": `;\n",
              "      div.appendChild(label);\n",
              "      const progress = document.createElement('progress');\n",
              "      progress.max = size;\n",
              "      div.appendChild(progress);\n",
              "      document.body.appendChild(div);\n",
              "\n",
              "      const buffers = [];\n",
              "      let downloaded = 0;\n",
              "\n",
              "      const channel = await google.colab.kernel.comms.open(id);\n",
              "      // Send a message to notify the kernel that we're ready.\n",
              "      channel.send({})\n",
              "\n",
              "      for await (const message of channel.messages) {\n",
              "        // Send a message to notify the kernel that we're ready.\n",
              "        channel.send({})\n",
              "        if (message.buffers) {\n",
              "          for (const buffer of message.buffers) {\n",
              "            buffers.push(buffer);\n",
              "            downloaded += buffer.byteLength;\n",
              "            progress.value = downloaded;\n",
              "          }\n",
              "        }\n",
              "      }\n",
              "      const blob = new Blob(buffers, {type: 'application/binary'});\n",
              "      const a = document.createElement('a');\n",
              "      a.href = window.URL.createObjectURL(blob);\n",
              "      a.download = filename;\n",
              "      div.appendChild(a);\n",
              "      a.click();\n",
              "      div.remove();\n",
              "    }\n",
              "  "
            ],
            "text/plain": [
              "<IPython.core.display.Javascript object>"
            ]
          },
          "metadata": {
            "tags": []
          }
        },
        {
          "output_type": "display_data",
          "data": {
            "application/javascript": [
              "download(\"download_4c1b41c2-d51c-480b-902a-72c42bbd106c\", \"df_all_no_emb.csv\", 3277712)"
            ],
            "text/plain": [
              "<IPython.core.display.Javascript object>"
            ]
          },
          "metadata": {
            "tags": []
          }
        }
      ]
    },
    {
      "cell_type": "markdown",
      "metadata": {
        "id": "NwCYJ_0sQAaL"
      },
      "source": [
        "# 3. Average Word Embedding"
      ]
    },
    {
      "cell_type": "code",
      "metadata": {
        "id": "fxobuEhBSOaW",
        "outputId": "f576c1d6-2f39-4a1e-cab5-0d091bdde005",
        "colab": {
          "base_uri": "https://localhost:8080/",
          "height": 224
        }
      },
      "source": [
        "!wget http://magnitude.plasticity.ai/word2vec/heavy/GoogleNews-vectors-negative300.magnitude\n"
      ],
      "execution_count": null,
      "outputs": [
        {
          "output_type": "stream",
          "text": [
            "--2020-09-28 15:28:34--  http://magnitude.plasticity.ai/word2vec/heavy/GoogleNews-vectors-negative300.magnitude\n",
            "Resolving magnitude.plasticity.ai (magnitude.plasticity.ai)... 52.216.106.34\n",
            "Connecting to magnitude.plasticity.ai (magnitude.plasticity.ai)|52.216.106.34|:80... connected.\n",
            "HTTP request sent, awaiting response... 200 OK\n",
            "Length: 10745409536 (10G) [binary/octet-stream]\n",
            "Saving to: ‘GoogleNews-vectors-negative300.magnitude’\n",
            "\n",
            "GoogleNews-vectors- 100%[===================>]  10.01G  40.6MB/s    in 4m 12s  \n",
            "\n",
            "2020-09-28 15:32:46 (40.7 MB/s) - ‘GoogleNews-vectors-negative300.magnitude’ saved [10745409536/10745409536]\n",
            "\n"
          ],
          "name": "stdout"
        }
      ]
    },
    {
      "cell_type": "code",
      "metadata": {
        "id": "q6LkJhJ6v3gD"
      },
      "source": [
        "vectors = Magnitude(\"GoogleNews-vectors-negative300.magnitude\")"
      ],
      "execution_count": null,
      "outputs": []
    },
    {
      "cell_type": "code",
      "metadata": {
        "id": "PlIAG1CYQAaQ"
      },
      "source": [
        "# Use customized embedding techinique - mean of similarities\n",
        "def sim_score(sim_vec):\n",
        "    sim_score = []\n",
        "    for a in sim_vec:\n",
        "        mean = np.mean(a) \n",
        "        sim_score.append(mean)\n",
        "    return np.mean(sim_score) \n",
        "\n",
        "def get_sim_score(A,B):\n",
        "    #A,B are lists of \n",
        "    sim_score_list = []\n",
        "    for i in range(len(A)):\n",
        "        #print(B[i])\n",
        "        try:\n",
        "            sim_score_list.append(sim_score(vectors.similarity(A[i],B[i])))\n",
        "        except:\n",
        "            #print(B[i])\n",
        "            sim_score_list.append(0) #if one of the list is empty, means no word in it. Return 0 similarity\n",
        "    return sim_score_list\n",
        "\n",
        "# def avg_word_embedding(Data, word_col_names, name, Ret_Data):\n",
        "#   for c in word_col_names:\n",
        "#     tmp =get_sim_score(list(Data[c]),list(Data[name]))\n",
        "#     tmp2= str(c)+ \"sim\"\n",
        "#     Ret_Data[tmp2]=tmp"
      ],
      "execution_count": null,
      "outputs": []
    },
    {
      "cell_type": "code",
      "metadata": {
        "id": "26fssYZ2iq9k"
      },
      "source": [
        "\n",
        "# df_emb = pd.DataFrame()\n",
        "# word_col_names = ['brand',\"attribute\",'product_title','product_description']\n",
        "# avg_word_embedding(df_all_stem, word_col_names,'search_term', df_emb)\n"
      ],
      "execution_count": null,
      "outputs": []
    },
    {
      "cell_type": "code",
      "metadata": {
        "id": "Gs8Y3vp2tXyh"
      },
      "source": [
        "# df_emb = pd.DataFrame()\n",
        "# product_brand_emb = get_sim_score(list(df_all_stem['brand']),list(df_all_stem['search_term']))\n",
        "# df_emb['brand_sim'] = product_brand_emb "
      ],
      "execution_count": null,
      "outputs": []
    },
    {
      "cell_type": "code",
      "metadata": {
        "id": "PByq2uKAtqoV"
      },
      "source": [
        "# attr_emb = get_sim_score(list(df_all_stem['attribute']),list(df_all_stem['search_term']))\n",
        "# df_emb['attr_sim'] = attr_emb"
      ],
      "execution_count": null,
      "outputs": []
    },
    {
      "cell_type": "code",
      "metadata": {
        "id": "Sr-x-KcO9jW9"
      },
      "source": [
        "# product_title_emb = get_sim_score(list(df_all_stem['product_title']),list(df_all_stem['search_term']))\n",
        "# df_emb['title_sim'] = product_title_emb"
      ],
      "execution_count": null,
      "outputs": []
    },
    {
      "cell_type": "code",
      "metadata": {
        "id": "p_9WPjPbQAab"
      },
      "source": [
        "# description_emb = get_sim_score(list(df_all_stem['product_description']),list(df_all_stem['search_term']))\n",
        "# df_emb['description_sim'] = description_emb"
      ],
      "execution_count": null,
      "outputs": []
    },
    {
      "cell_type": "code",
      "metadata": {
        "id": "COeVcSpt9prG",
        "outputId": "fa4be632-a7f3-4c70-d7f2-21d23e99f8fa",
        "colab": {
          "base_uri": "https://localhost:8080/",
          "height": 204
        }
      },
      "source": [
        "# df_emb.head()"
      ],
      "execution_count": null,
      "outputs": [
        {
          "output_type": "execute_result",
          "data": {
            "text/html": [
              "<div>\n",
              "<style scoped>\n",
              "    .dataframe tbody tr th:only-of-type {\n",
              "        vertical-align: middle;\n",
              "    }\n",
              "\n",
              "    .dataframe tbody tr th {\n",
              "        vertical-align: top;\n",
              "    }\n",
              "\n",
              "    .dataframe thead th {\n",
              "        text-align: right;\n",
              "    }\n",
              "</style>\n",
              "<table border=\"1\" class=\"dataframe\">\n",
              "  <thead>\n",
              "    <tr style=\"text-align: right;\">\n",
              "      <th></th>\n",
              "      <th>brand_sim</th>\n",
              "      <th>attr_sim</th>\n",
              "      <th>title_sim</th>\n",
              "      <th>description_sim</th>\n",
              "    </tr>\n",
              "  </thead>\n",
              "  <tbody>\n",
              "    <tr>\n",
              "      <th>0</th>\n",
              "      <td>0.046150</td>\n",
              "      <td>0.012028</td>\n",
              "      <td>0.099485</td>\n",
              "      <td>0.011724</td>\n",
              "    </tr>\n",
              "    <tr>\n",
              "      <th>1</th>\n",
              "      <td>0.089695</td>\n",
              "      <td>0.011272</td>\n",
              "      <td>0.056404</td>\n",
              "      <td>0.009350</td>\n",
              "    </tr>\n",
              "    <tr>\n",
              "      <th>2</th>\n",
              "      <td>0.080348</td>\n",
              "      <td>0.010224</td>\n",
              "      <td>0.043307</td>\n",
              "      <td>0.011489</td>\n",
              "    </tr>\n",
              "    <tr>\n",
              "      <th>3</th>\n",
              "      <td>0.048004</td>\n",
              "      <td>0.007526</td>\n",
              "      <td>0.036266</td>\n",
              "      <td>0.009092</td>\n",
              "    </tr>\n",
              "    <tr>\n",
              "      <th>4</th>\n",
              "      <td>0.108503</td>\n",
              "      <td>0.014926</td>\n",
              "      <td>0.077293</td>\n",
              "      <td>0.016911</td>\n",
              "    </tr>\n",
              "  </tbody>\n",
              "</table>\n",
              "</div>"
            ],
            "text/plain": [
              "   brand_sim  attr_sim  title_sim  description_sim\n",
              "0   0.046150  0.012028   0.099485         0.011724\n",
              "1   0.089695  0.011272   0.056404         0.009350\n",
              "2   0.080348  0.010224   0.043307         0.011489\n",
              "3   0.048004  0.007526   0.036266         0.009092\n",
              "4   0.108503  0.014926   0.077293         0.016911"
            ]
          },
          "metadata": {
            "tags": []
          },
          "execution_count": 42
        }
      ]
    },
    {
      "cell_type": "code",
      "metadata": {
        "id": "xpXWXXHfQAak",
        "outputId": "3e994e78-039d-41cd-d7b5-51b3e04357f0",
        "colab": {
          "base_uri": "https://localhost:8080/",
          "height": 17
        }
      },
      "source": [
        "# #saving word embedding file to local machine\n",
        "# df_emb.to_csv('hd_avg_word.csv') \n",
        "# files.download('hd_avg_word.csv')\n"
      ],
      "execution_count": null,
      "outputs": [
        {
          "output_type": "display_data",
          "data": {
            "application/javascript": [
              "\n",
              "    async function download(id, filename, size) {\n",
              "      if (!google.colab.kernel.accessAllowed) {\n",
              "        return;\n",
              "      }\n",
              "      const div = document.createElement('div');\n",
              "      const label = document.createElement('label');\n",
              "      label.textContent = `Downloading \"${filename}\": `;\n",
              "      div.appendChild(label);\n",
              "      const progress = document.createElement('progress');\n",
              "      progress.max = size;\n",
              "      div.appendChild(progress);\n",
              "      document.body.appendChild(div);\n",
              "\n",
              "      const buffers = [];\n",
              "      let downloaded = 0;\n",
              "\n",
              "      const channel = await google.colab.kernel.comms.open(id);\n",
              "      // Send a message to notify the kernel that we're ready.\n",
              "      channel.send({})\n",
              "\n",
              "      for await (const message of channel.messages) {\n",
              "        // Send a message to notify the kernel that we're ready.\n",
              "        channel.send({})\n",
              "        if (message.buffers) {\n",
              "          for (const buffer of message.buffers) {\n",
              "            buffers.push(buffer);\n",
              "            downloaded += buffer.byteLength;\n",
              "            progress.value = downloaded;\n",
              "          }\n",
              "        }\n",
              "      }\n",
              "      const blob = new Blob(buffers, {type: 'application/binary'});\n",
              "      const a = document.createElement('a');\n",
              "      a.href = window.URL.createObjectURL(blob);\n",
              "      a.download = filename;\n",
              "      div.appendChild(a);\n",
              "      a.click();\n",
              "      div.remove();\n",
              "    }\n",
              "  "
            ],
            "text/plain": [
              "<IPython.core.display.Javascript object>"
            ]
          },
          "metadata": {
            "tags": []
          }
        },
        {
          "output_type": "display_data",
          "data": {
            "application/javascript": [
              "download(\"download_361e25dd-7e6a-4ad1-a85c-f369c3736565\", \"hd_avg_word.csv\", 4934676)"
            ],
            "text/plain": [
              "<IPython.core.display.Javascript object>"
            ]
          },
          "metadata": {
            "tags": []
          }
        }
      ]
    },
    {
      "cell_type": "code",
      "metadata": {
        "id": "lx1PHTMFQAao",
        "outputId": "0122b36f-62a8-4b5d-f148-9d4f0cce8f02",
        "colab": {
          "base_uri": "https://localhost:8080/",
          "height": 204
        }
      },
      "source": [
        "#import the Word2Vec embedding features\n",
        "df_avg_word = pd.read_csv( \"/content/drive/My Drive/UBS/hd_avg_word.csv\", index_col=0)\n",
        "df_avg_word.info()\n"
      ],
      "execution_count": null,
      "outputs": [
        {
          "output_type": "stream",
          "text": [
            "<class 'pandas.core.frame.DataFrame'>\n",
            "Int64Index: 56439 entries, 0 to 56438\n",
            "Data columns (total 4 columns):\n",
            " #   Column           Non-Null Count  Dtype  \n",
            "---  ------           --------------  -----  \n",
            " 0   brand_sim        56439 non-null  float64\n",
            " 1   attr_sim         56439 non-null  float64\n",
            " 2   title_sim        56439 non-null  float64\n",
            " 3   description_sim  56439 non-null  float64\n",
            "dtypes: float64(4)\n",
            "memory usage: 2.2 MB\n"
          ],
          "name": "stdout"
        }
      ]
    },
    {
      "cell_type": "code",
      "metadata": {
        "id": "U1eOWDRT1o47",
        "outputId": "6466a125-0d46-47a0-b7b8-e719cc7a6f38",
        "colab": {
          "base_uri": "https://localhost:8080/",
          "height": 425
        }
      },
      "source": [
        "df_all_avg_word = df_all_no_emb.copy()\n",
        "df_all_avg_word.info()\n",
        "#df_all_avg_word=pd.concat([df_all_avg_word,df_avg_word],axis=1)"
      ],
      "execution_count": null,
      "outputs": [
        {
          "output_type": "stream",
          "text": [
            "<class 'pandas.core.frame.DataFrame'>\n",
            "Int64Index: 56439 entries, 0 to 74066\n",
            "Data columns (total 17 columns):\n",
            " #   Column                        Non-Null Count  Dtype  \n",
            "---  ------                        --------------  -----  \n",
            " 0   id                            56439 non-null  int64  \n",
            " 1   product_uid                   56439 non-null  int64  \n",
            " 2   relevance                     56439 non-null  float64\n",
            " 3   num_common_units_measurement  56439 non-null  int64  \n",
            " 4   num_common_colors             56439 non-null  int64  \n",
            " 5   len_of_query                  56439 non-null  int64  \n",
            " 6   word_in_title                 56439 non-null  int64  \n",
            " 7   word_in_description           56439 non-null  int64  \n",
            " 8   len_of_brand                  56439 non-null  int64  \n",
            " 9   len_of_attribute              56439 non-null  int64  \n",
            " 10  word_in_attributes            56439 non-null  int64  \n",
            " 11  brand_in_search               56439 non-null  int64  \n",
            " 12  ratio_brand                   56439 non-null  float64\n",
            " 13  last_word_title_match         56439 non-null  int64  \n",
            " 14  last_word_description_match   56439 non-null  int64  \n",
            " 15  first_word_title_match        56439 non-null  int64  \n",
            " 16  first_word_description_match  56439 non-null  int64  \n",
            "dtypes: float64(2), int64(15)\n",
            "memory usage: 7.8 MB\n"
          ],
          "name": "stdout"
        }
      ]
    },
    {
      "cell_type": "code",
      "metadata": {
        "id": "qZp0MqHWQAas",
        "outputId": "da70975b-e34c-488f-9dc8-891247b97e1a",
        "colab": {
          "base_uri": "https://localhost:8080/",
          "height": 439
        }
      },
      "source": [
        "#add the embedding features\n",
        "df_all_avg_word [\"brand_sim\"]=df_avg_word[\"brand_sim\"]\n",
        "df_all_avg_word [\"attr_sim\"]=df_avg_word[\"attr_sim\"]\n",
        "df_all_avg_word [\"title_sim\"]=df_avg_word[\"title_sim\"]\n",
        "df_all_avg_word [\"description_sim\"]=df_avg_word[\"description_sim\"]\n",
        "df_all_avg_word "
      ],
      "execution_count": null,
      "outputs": [
        {
          "output_type": "execute_result",
          "data": {
            "text/html": [
              "<div>\n",
              "<style scoped>\n",
              "    .dataframe tbody tr th:only-of-type {\n",
              "        vertical-align: middle;\n",
              "    }\n",
              "\n",
              "    .dataframe tbody tr th {\n",
              "        vertical-align: top;\n",
              "    }\n",
              "\n",
              "    .dataframe thead th {\n",
              "        text-align: right;\n",
              "    }\n",
              "</style>\n",
              "<table border=\"1\" class=\"dataframe\">\n",
              "  <thead>\n",
              "    <tr style=\"text-align: right;\">\n",
              "      <th></th>\n",
              "      <th>id</th>\n",
              "      <th>product_uid</th>\n",
              "      <th>relevance</th>\n",
              "      <th>num_common_units_measurement</th>\n",
              "      <th>num_common_colors</th>\n",
              "      <th>len_of_query</th>\n",
              "      <th>word_in_title</th>\n",
              "      <th>word_in_description</th>\n",
              "      <th>len_of_brand</th>\n",
              "      <th>len_of_attribute</th>\n",
              "      <th>word_in_attributes</th>\n",
              "      <th>brand_in_search</th>\n",
              "      <th>ratio_brand</th>\n",
              "      <th>last_word_title_match</th>\n",
              "      <th>last_word_description_match</th>\n",
              "      <th>first_word_title_match</th>\n",
              "      <th>first_word_description_match</th>\n",
              "      <th>brand_sim</th>\n",
              "      <th>attr_sim</th>\n",
              "      <th>title_sim</th>\n",
              "      <th>description_sim</th>\n",
              "    </tr>\n",
              "  </thead>\n",
              "  <tbody>\n",
              "    <tr>\n",
              "      <th>0</th>\n",
              "      <td>2</td>\n",
              "      <td>100001</td>\n",
              "      <td>3.00</td>\n",
              "      <td>0</td>\n",
              "      <td>0</td>\n",
              "      <td>2</td>\n",
              "      <td>0</td>\n",
              "      <td>1</td>\n",
              "      <td>2</td>\n",
              "      <td>70</td>\n",
              "      <td>1</td>\n",
              "      <td>16</td>\n",
              "      <td>8.0</td>\n",
              "      <td>0</td>\n",
              "      <td>0</td>\n",
              "      <td>0</td>\n",
              "      <td>1</td>\n",
              "      <td>0.046150</td>\n",
              "      <td>0.012028</td>\n",
              "      <td>0.099485</td>\n",
              "      <td>0.011724</td>\n",
              "    </tr>\n",
              "    <tr>\n",
              "      <th>1</th>\n",
              "      <td>3</td>\n",
              "      <td>100001</td>\n",
              "      <td>2.50</td>\n",
              "      <td>0</td>\n",
              "      <td>0</td>\n",
              "      <td>2</td>\n",
              "      <td>1</td>\n",
              "      <td>1</td>\n",
              "      <td>2</td>\n",
              "      <td>70</td>\n",
              "      <td>1</td>\n",
              "      <td>16</td>\n",
              "      <td>8.0</td>\n",
              "      <td>0</td>\n",
              "      <td>0</td>\n",
              "      <td>1</td>\n",
              "      <td>1</td>\n",
              "      <td>0.089695</td>\n",
              "      <td>0.011272</td>\n",
              "      <td>0.056404</td>\n",
              "      <td>0.009350</td>\n",
              "    </tr>\n",
              "    <tr>\n",
              "      <th>2</th>\n",
              "      <td>9</td>\n",
              "      <td>100002</td>\n",
              "      <td>3.00</td>\n",
              "      <td>0</td>\n",
              "      <td>0</td>\n",
              "      <td>1</td>\n",
              "      <td>0</td>\n",
              "      <td>2</td>\n",
              "      <td>4</td>\n",
              "      <td>158</td>\n",
              "      <td>2</td>\n",
              "      <td>16</td>\n",
              "      <td>4.0</td>\n",
              "      <td>0</td>\n",
              "      <td>1</td>\n",
              "      <td>0</td>\n",
              "      <td>1</td>\n",
              "      <td>0.080348</td>\n",
              "      <td>0.010224</td>\n",
              "      <td>0.043307</td>\n",
              "      <td>0.011489</td>\n",
              "    </tr>\n",
              "    <tr>\n",
              "      <th>3</th>\n",
              "      <td>16</td>\n",
              "      <td>100005</td>\n",
              "      <td>2.33</td>\n",
              "      <td>0</td>\n",
              "      <td>0</td>\n",
              "      <td>3</td>\n",
              "      <td>0</td>\n",
              "      <td>0</td>\n",
              "      <td>1</td>\n",
              "      <td>120</td>\n",
              "      <td>2</td>\n",
              "      <td>16</td>\n",
              "      <td>16.0</td>\n",
              "      <td>0</td>\n",
              "      <td>0</td>\n",
              "      <td>0</td>\n",
              "      <td>0</td>\n",
              "      <td>0.048004</td>\n",
              "      <td>0.007526</td>\n",
              "      <td>0.036266</td>\n",
              "      <td>0.009092</td>\n",
              "    </tr>\n",
              "    <tr>\n",
              "      <th>4</th>\n",
              "      <td>17</td>\n",
              "      <td>100005</td>\n",
              "      <td>2.67</td>\n",
              "      <td>0</td>\n",
              "      <td>0</td>\n",
              "      <td>2</td>\n",
              "      <td>0</td>\n",
              "      <td>1</td>\n",
              "      <td>1</td>\n",
              "      <td>120</td>\n",
              "      <td>2</td>\n",
              "      <td>16</td>\n",
              "      <td>16.0</td>\n",
              "      <td>0</td>\n",
              "      <td>0</td>\n",
              "      <td>0</td>\n",
              "      <td>0</td>\n",
              "      <td>0.108503</td>\n",
              "      <td>0.014926</td>\n",
              "      <td>0.077293</td>\n",
              "      <td>0.016911</td>\n",
              "    </tr>\n",
              "    <tr>\n",
              "      <th>...</th>\n",
              "      <td>...</td>\n",
              "      <td>...</td>\n",
              "      <td>...</td>\n",
              "      <td>...</td>\n",
              "      <td>...</td>\n",
              "      <td>...</td>\n",
              "      <td>...</td>\n",
              "      <td>...</td>\n",
              "      <td>...</td>\n",
              "      <td>...</td>\n",
              "      <td>...</td>\n",
              "      <td>...</td>\n",
              "      <td>...</td>\n",
              "      <td>...</td>\n",
              "      <td>...</td>\n",
              "      <td>...</td>\n",
              "      <td>...</td>\n",
              "      <td>...</td>\n",
              "      <td>...</td>\n",
              "      <td>...</td>\n",
              "      <td>...</td>\n",
              "    </tr>\n",
              "    <tr>\n",
              "      <th>74062</th>\n",
              "      <td>221457</td>\n",
              "      <td>206638</td>\n",
              "      <td>1.00</td>\n",
              "      <td>0</td>\n",
              "      <td>0</td>\n",
              "      <td>3</td>\n",
              "      <td>0</td>\n",
              "      <td>1</td>\n",
              "      <td>1</td>\n",
              "      <td>119</td>\n",
              "      <td>1</td>\n",
              "      <td>16</td>\n",
              "      <td>16.0</td>\n",
              "      <td>0</td>\n",
              "      <td>1</td>\n",
              "      <td>0</td>\n",
              "      <td>0</td>\n",
              "      <td>NaN</td>\n",
              "      <td>NaN</td>\n",
              "      <td>NaN</td>\n",
              "      <td>NaN</td>\n",
              "    </tr>\n",
              "    <tr>\n",
              "      <th>74063</th>\n",
              "      <td>221458</td>\n",
              "      <td>206639</td>\n",
              "      <td>3.00</td>\n",
              "      <td>0</td>\n",
              "      <td>0</td>\n",
              "      <td>3</td>\n",
              "      <td>0</td>\n",
              "      <td>2</td>\n",
              "      <td>1</td>\n",
              "      <td>128</td>\n",
              "      <td>1</td>\n",
              "      <td>16</td>\n",
              "      <td>16.0</td>\n",
              "      <td>0</td>\n",
              "      <td>1</td>\n",
              "      <td>0</td>\n",
              "      <td>0</td>\n",
              "      <td>NaN</td>\n",
              "      <td>NaN</td>\n",
              "      <td>NaN</td>\n",
              "      <td>NaN</td>\n",
              "    </tr>\n",
              "    <tr>\n",
              "      <th>74064</th>\n",
              "      <td>221463</td>\n",
              "      <td>206641</td>\n",
              "      <td>2.33</td>\n",
              "      <td>0</td>\n",
              "      <td>0</td>\n",
              "      <td>6</td>\n",
              "      <td>1</td>\n",
              "      <td>2</td>\n",
              "      <td>1</td>\n",
              "      <td>221</td>\n",
              "      <td>2</td>\n",
              "      <td>16</td>\n",
              "      <td>16.0</td>\n",
              "      <td>1</td>\n",
              "      <td>1</td>\n",
              "      <td>0</td>\n",
              "      <td>0</td>\n",
              "      <td>NaN</td>\n",
              "      <td>NaN</td>\n",
              "      <td>NaN</td>\n",
              "      <td>NaN</td>\n",
              "    </tr>\n",
              "    <tr>\n",
              "      <th>74065</th>\n",
              "      <td>221471</td>\n",
              "      <td>206648</td>\n",
              "      <td>3.00</td>\n",
              "      <td>0</td>\n",
              "      <td>0</td>\n",
              "      <td>3</td>\n",
              "      <td>0</td>\n",
              "      <td>1</td>\n",
              "      <td>1</td>\n",
              "      <td>51</td>\n",
              "      <td>1</td>\n",
              "      <td>16</td>\n",
              "      <td>16.0</td>\n",
              "      <td>0</td>\n",
              "      <td>1</td>\n",
              "      <td>0</td>\n",
              "      <td>0</td>\n",
              "      <td>NaN</td>\n",
              "      <td>NaN</td>\n",
              "      <td>NaN</td>\n",
              "      <td>NaN</td>\n",
              "    </tr>\n",
              "    <tr>\n",
              "      <th>74066</th>\n",
              "      <td>221473</td>\n",
              "      <td>206650</td>\n",
              "      <td>2.33</td>\n",
              "      <td>0</td>\n",
              "      <td>0</td>\n",
              "      <td>5</td>\n",
              "      <td>1</td>\n",
              "      <td>2</td>\n",
              "      <td>1</td>\n",
              "      <td>110</td>\n",
              "      <td>2</td>\n",
              "      <td>16</td>\n",
              "      <td>16.0</td>\n",
              "      <td>0</td>\n",
              "      <td>0</td>\n",
              "      <td>0</td>\n",
              "      <td>0</td>\n",
              "      <td>NaN</td>\n",
              "      <td>NaN</td>\n",
              "      <td>NaN</td>\n",
              "      <td>NaN</td>\n",
              "    </tr>\n",
              "  </tbody>\n",
              "</table>\n",
              "<p>56439 rows × 21 columns</p>\n",
              "</div>"
            ],
            "text/plain": [
              "           id  product_uid  relevance  ...  attr_sim  title_sim  description_sim\n",
              "0           2       100001       3.00  ...  0.012028   0.099485         0.011724\n",
              "1           3       100001       2.50  ...  0.011272   0.056404         0.009350\n",
              "2           9       100002       3.00  ...  0.010224   0.043307         0.011489\n",
              "3          16       100005       2.33  ...  0.007526   0.036266         0.009092\n",
              "4          17       100005       2.67  ...  0.014926   0.077293         0.016911\n",
              "...       ...          ...        ...  ...       ...        ...              ...\n",
              "74062  221457       206638       1.00  ...       NaN        NaN              NaN\n",
              "74063  221458       206639       3.00  ...       NaN        NaN              NaN\n",
              "74064  221463       206641       2.33  ...       NaN        NaN              NaN\n",
              "74065  221471       206648       3.00  ...       NaN        NaN              NaN\n",
              "74066  221473       206650       2.33  ...       NaN        NaN              NaN\n",
              "\n",
              "[56439 rows x 21 columns]"
            ]
          },
          "metadata": {
            "tags": []
          },
          "execution_count": 73
        }
      ]
    },
    {
      "cell_type": "code",
      "metadata": {
        "id": "6pztY1aezJDr",
        "outputId": "40e00863-0a75-4c4b-8879-f697e53c1dc4",
        "colab": {
          "base_uri": "https://localhost:8080/",
          "height": 493
        }
      },
      "source": [
        "# dropping missing entries\n",
        "df_all_avg_word=df_all_avg_word.dropna()\n",
        "df_all_avg_word.info()"
      ],
      "execution_count": null,
      "outputs": [
        {
          "output_type": "stream",
          "text": [
            "<class 'pandas.core.frame.DataFrame'>\n",
            "Int64Index: 40024 entries, 0 to 56438\n",
            "Data columns (total 21 columns):\n",
            " #   Column                        Non-Null Count  Dtype  \n",
            "---  ------                        --------------  -----  \n",
            " 0   id                            40024 non-null  int64  \n",
            " 1   product_uid                   40024 non-null  int64  \n",
            " 2   relevance                     40024 non-null  float64\n",
            " 3   num_common_units_measurement  40024 non-null  int64  \n",
            " 4   num_common_colors             40024 non-null  int64  \n",
            " 5   len_of_query                  40024 non-null  int64  \n",
            " 6   word_in_title                 40024 non-null  int64  \n",
            " 7   word_in_description           40024 non-null  int64  \n",
            " 8   len_of_brand                  40024 non-null  int64  \n",
            " 9   len_of_attribute              40024 non-null  int64  \n",
            " 10  word_in_attributes            40024 non-null  int64  \n",
            " 11  brand_in_search               40024 non-null  int64  \n",
            " 12  ratio_brand                   40024 non-null  float64\n",
            " 13  last_word_title_match         40024 non-null  int64  \n",
            " 14  last_word_description_match   40024 non-null  int64  \n",
            " 15  first_word_title_match        40024 non-null  int64  \n",
            " 16  first_word_description_match  40024 non-null  int64  \n",
            " 17  brand_sim                     40024 non-null  float64\n",
            " 18  attr_sim                      40024 non-null  float64\n",
            " 19  title_sim                     40024 non-null  float64\n",
            " 20  description_sim               40024 non-null  float64\n",
            "dtypes: float64(6), int64(15)\n",
            "memory usage: 6.7 MB\n"
          ],
          "name": "stdout"
        }
      ]
    },
    {
      "cell_type": "code",
      "metadata": {
        "id": "5kgHBNtCZ6F6",
        "outputId": "c912e7ea-b126-43c0-cefd-d73f16705a34",
        "colab": {
          "base_uri": "https://localhost:8080/",
          "height": 17
        }
      },
      "source": [
        "# df_all_avg_word.to_csv('df_all_avg.csv') \n",
        "# files.download('df_all_avg.csv')"
      ],
      "execution_count": null,
      "outputs": [
        {
          "output_type": "display_data",
          "data": {
            "application/javascript": [
              "\n",
              "    async function download(id, filename, size) {\n",
              "      if (!google.colab.kernel.accessAllowed) {\n",
              "        return;\n",
              "      }\n",
              "      const div = document.createElement('div');\n",
              "      const label = document.createElement('label');\n",
              "      label.textContent = `Downloading \"${filename}\": `;\n",
              "      div.appendChild(label);\n",
              "      const progress = document.createElement('progress');\n",
              "      progress.max = size;\n",
              "      div.appendChild(progress);\n",
              "      document.body.appendChild(div);\n",
              "\n",
              "      const buffers = [];\n",
              "      let downloaded = 0;\n",
              "\n",
              "      const channel = await google.colab.kernel.comms.open(id);\n",
              "      // Send a message to notify the kernel that we're ready.\n",
              "      channel.send({})\n",
              "\n",
              "      for await (const message of channel.messages) {\n",
              "        // Send a message to notify the kernel that we're ready.\n",
              "        channel.send({})\n",
              "        if (message.buffers) {\n",
              "          for (const buffer of message.buffers) {\n",
              "            buffers.push(buffer);\n",
              "            downloaded += buffer.byteLength;\n",
              "            progress.value = downloaded;\n",
              "          }\n",
              "        }\n",
              "      }\n",
              "      const blob = new Blob(buffers, {type: 'application/binary'});\n",
              "      const a = document.createElement('a');\n",
              "      a.href = window.URL.createObjectURL(blob);\n",
              "      a.download = filename;\n",
              "      div.appendChild(a);\n",
              "      a.click();\n",
              "      div.remove();\n",
              "    }\n",
              "  "
            ],
            "text/plain": [
              "<IPython.core.display.Javascript object>"
            ]
          },
          "metadata": {
            "tags": []
          }
        },
        {
          "output_type": "display_data",
          "data": {
            "application/javascript": [
              "download(\"download_d67fa8c6-de7c-4503-92ef-5545e4da78ca\", \"df_all_avg.csv\", 5574890)"
            ],
            "text/plain": [
              "<IPython.core.display.Javascript object>"
            ]
          },
          "metadata": {
            "tags": []
          }
        }
      ]
    },
    {
      "cell_type": "markdown",
      "metadata": {
        "id": "7rllrtGOQAav"
      },
      "source": [
        "# 4. TF-IDF\n"
      ]
    },
    {
      "cell_type": "code",
      "metadata": {
        "id": "G5II8rD642DJ"
      },
      "source": [
        "df_all_features = pd.read_csv(\"/content/drive/My Drive/UBS/df_all_features.csv\", encoding=\"ISO-8859-1\", index_col=0)"
      ],
      "execution_count": 72,
      "outputs": []
    },
    {
      "cell_type": "code",
      "metadata": {
        "id": "uqRtaJZ76tRd",
        "outputId": "fa3e9aaf-ec8f-41e7-fa7b-3e92428c4209",
        "colab": {
          "base_uri": "https://localhost:8080/",
          "height": 544
        }
      },
      "source": [
        "df_all_features.info()"
      ],
      "execution_count": 73,
      "outputs": [
        {
          "output_type": "stream",
          "text": [
            "<class 'pandas.core.frame.DataFrame'>\n",
            "Int64Index: 56439 entries, 0 to 74066\n",
            "Data columns (total 24 columns):\n",
            " #   Column                        Non-Null Count  Dtype  \n",
            "---  ------                        --------------  -----  \n",
            " 0   id                            56439 non-null  int64  \n",
            " 1   product_uid                   56439 non-null  int64  \n",
            " 2   product_title                 56439 non-null  object \n",
            " 3   search_term                   56439 non-null  object \n",
            " 4   relevance                     56439 non-null  float64\n",
            " 5   product_description           56439 non-null  object \n",
            " 6   brand                         56439 non-null  object \n",
            " 7   attribute                     56439 non-null  object \n",
            " 8   product_info                  56439 non-null  object \n",
            " 9   num_common_units_measurement  56439 non-null  int64  \n",
            " 10  num_common_colors             56439 non-null  int64  \n",
            " 11  len_of_query                  56439 non-null  int64  \n",
            " 12  word_in_title                 56439 non-null  int64  \n",
            " 13  word_in_description           56439 non-null  int64  \n",
            " 14  len_of_brand                  56439 non-null  int64  \n",
            " 15  len_of_attribute              56439 non-null  int64  \n",
            " 16  word_in_attributes            56439 non-null  int64  \n",
            " 17  attr                          56439 non-null  object \n",
            " 18  brand_in_search               56439 non-null  int64  \n",
            " 19  ratio_brand                   56439 non-null  float64\n",
            " 20  last_word_title_match         56439 non-null  int64  \n",
            " 21  last_word_description_match   56439 non-null  int64  \n",
            " 22  first_word_title_match        56439 non-null  int64  \n",
            " 23  first_word_description_match  56439 non-null  int64  \n",
            "dtypes: float64(2), int64(15), object(7)\n",
            "memory usage: 10.8+ MB\n"
          ],
          "name": "stdout"
        }
      ]
    },
    {
      "cell_type": "code",
      "metadata": {
        "id": "Pt4cm60bQAaw"
      },
      "source": [
        "from sklearn.feature_extraction.text import TfidfVectorizer\n",
        "from sklearn.decomposition import TruncatedSVD\n",
        "from sklearn.pipeline import FeatureUnion, Pipeline\n",
        "# TF-IDF and Truncated SVD initialization (to extract concept using Latent semantics analysis(LSA))\n",
        "tfidf = TfidfVectorizer(ngram_range=(1, 2), stop_words='english') #stop words\n",
        "svd = TruncatedSVD(n_components=100, random_state = 2019)  #n_components=100 to extract concepts using LSA\n",
        "pipe = Pipeline(steps=[('tfidf', tfidf), ('svd', svd)])"
      ],
      "execution_count": 74,
      "outputs": []
    },
    {
      "cell_type": "code",
      "metadata": {
        "id": "46iDmq_rQAa4",
        "outputId": "663ca3ec-184e-42ec-8f6c-75d0352ca38d",
        "colab": {
          "base_uri": "https://localhost:8080/",
          "height": 309
        }
      },
      "source": [
        "# Perform fit and transform function of pipeline to convert text(in each feature) into vectors and reducing them \n",
        "df_tf=df_all_features.copy()\n",
        "# Transform all object columns\n",
        "obj_col=[]\n",
        "for (columnName, columnData) in df_tf.iteritems(): \n",
        "  if df_tf[columnName].dtypes==object:\n",
        "    df_tf[columnName]=pipe.fit_transform(df_tf[columnName])\n",
        "df_tf.head()"
      ],
      "execution_count": 75,
      "outputs": [
        {
          "output_type": "execute_result",
          "data": {
            "text/html": [
              "<div>\n",
              "<style scoped>\n",
              "    .dataframe tbody tr th:only-of-type {\n",
              "        vertical-align: middle;\n",
              "    }\n",
              "\n",
              "    .dataframe tbody tr th {\n",
              "        vertical-align: top;\n",
              "    }\n",
              "\n",
              "    .dataframe thead th {\n",
              "        text-align: right;\n",
              "    }\n",
              "</style>\n",
              "<table border=\"1\" class=\"dataframe\">\n",
              "  <thead>\n",
              "    <tr style=\"text-align: right;\">\n",
              "      <th></th>\n",
              "      <th>id</th>\n",
              "      <th>product_uid</th>\n",
              "      <th>product_title</th>\n",
              "      <th>search_term</th>\n",
              "      <th>relevance</th>\n",
              "      <th>product_description</th>\n",
              "      <th>brand</th>\n",
              "      <th>attribute</th>\n",
              "      <th>product_info</th>\n",
              "      <th>num_common_units_measurement</th>\n",
              "      <th>num_common_colors</th>\n",
              "      <th>len_of_query</th>\n",
              "      <th>word_in_title</th>\n",
              "      <th>word_in_description</th>\n",
              "      <th>len_of_brand</th>\n",
              "      <th>len_of_attribute</th>\n",
              "      <th>word_in_attributes</th>\n",
              "      <th>attr</th>\n",
              "      <th>brand_in_search</th>\n",
              "      <th>ratio_brand</th>\n",
              "      <th>last_word_title_match</th>\n",
              "      <th>last_word_description_match</th>\n",
              "      <th>first_word_title_match</th>\n",
              "      <th>first_word_description_match</th>\n",
              "    </tr>\n",
              "  </thead>\n",
              "  <tbody>\n",
              "    <tr>\n",
              "      <th>0</th>\n",
              "      <td>2</td>\n",
              "      <td>100001</td>\n",
              "      <td>0.006560</td>\n",
              "      <td>0.003661</td>\n",
              "      <td>3.00</td>\n",
              "      <td>0.063656</td>\n",
              "      <td>1.044391e-10</td>\n",
              "      <td>0.091004</td>\n",
              "      <td>0.071732</td>\n",
              "      <td>0</td>\n",
              "      <td>0</td>\n",
              "      <td>2</td>\n",
              "      <td>0</td>\n",
              "      <td>1</td>\n",
              "      <td>2</td>\n",
              "      <td>70</td>\n",
              "      <td>1</td>\n",
              "      <td>1.0</td>\n",
              "      <td>16</td>\n",
              "      <td>8.0</td>\n",
              "      <td>0</td>\n",
              "      <td>0</td>\n",
              "      <td>0</td>\n",
              "      <td>1</td>\n",
              "    </tr>\n",
              "    <tr>\n",
              "      <th>1</th>\n",
              "      <td>3</td>\n",
              "      <td>100001</td>\n",
              "      <td>0.006560</td>\n",
              "      <td>0.006449</td>\n",
              "      <td>2.50</td>\n",
              "      <td>0.063656</td>\n",
              "      <td>1.044355e-10</td>\n",
              "      <td>0.091004</td>\n",
              "      <td>0.071668</td>\n",
              "      <td>0</td>\n",
              "      <td>0</td>\n",
              "      <td>2</td>\n",
              "      <td>1</td>\n",
              "      <td>1</td>\n",
              "      <td>2</td>\n",
              "      <td>70</td>\n",
              "      <td>1</td>\n",
              "      <td>1.0</td>\n",
              "      <td>16</td>\n",
              "      <td>8.0</td>\n",
              "      <td>0</td>\n",
              "      <td>0</td>\n",
              "      <td>1</td>\n",
              "      <td>1</td>\n",
              "    </tr>\n",
              "    <tr>\n",
              "      <th>2</th>\n",
              "      <td>9</td>\n",
              "      <td>100002</td>\n",
              "      <td>0.013937</td>\n",
              "      <td>0.006368</td>\n",
              "      <td>3.00</td>\n",
              "      <td>0.126209</td>\n",
              "      <td>1.980652e-09</td>\n",
              "      <td>0.165142</td>\n",
              "      <td>0.148984</td>\n",
              "      <td>0</td>\n",
              "      <td>0</td>\n",
              "      <td>1</td>\n",
              "      <td>0</td>\n",
              "      <td>2</td>\n",
              "      <td>4</td>\n",
              "      <td>158</td>\n",
              "      <td>2</td>\n",
              "      <td>1.0</td>\n",
              "      <td>16</td>\n",
              "      <td>4.0</td>\n",
              "      <td>0</td>\n",
              "      <td>1</td>\n",
              "      <td>0</td>\n",
              "      <td>1</td>\n",
              "    </tr>\n",
              "    <tr>\n",
              "      <th>3</th>\n",
              "      <td>16</td>\n",
              "      <td>100005</td>\n",
              "      <td>0.055361</td>\n",
              "      <td>0.034519</td>\n",
              "      <td>2.33</td>\n",
              "      <td>0.082506</td>\n",
              "      <td>3.420864e-15</td>\n",
              "      <td>0.175849</td>\n",
              "      <td>0.144528</td>\n",
              "      <td>0</td>\n",
              "      <td>0</td>\n",
              "      <td>3</td>\n",
              "      <td>0</td>\n",
              "      <td>0</td>\n",
              "      <td>1</td>\n",
              "      <td>120</td>\n",
              "      <td>2</td>\n",
              "      <td>1.0</td>\n",
              "      <td>16</td>\n",
              "      <td>16.0</td>\n",
              "      <td>0</td>\n",
              "      <td>0</td>\n",
              "      <td>0</td>\n",
              "      <td>0</td>\n",
              "    </tr>\n",
              "    <tr>\n",
              "      <th>4</th>\n",
              "      <td>17</td>\n",
              "      <td>100005</td>\n",
              "      <td>0.055361</td>\n",
              "      <td>0.070724</td>\n",
              "      <td>2.67</td>\n",
              "      <td>0.082506</td>\n",
              "      <td>3.368701e-15</td>\n",
              "      <td>0.175849</td>\n",
              "      <td>0.144744</td>\n",
              "      <td>0</td>\n",
              "      <td>0</td>\n",
              "      <td>2</td>\n",
              "      <td>0</td>\n",
              "      <td>1</td>\n",
              "      <td>1</td>\n",
              "      <td>120</td>\n",
              "      <td>2</td>\n",
              "      <td>1.0</td>\n",
              "      <td>16</td>\n",
              "      <td>16.0</td>\n",
              "      <td>0</td>\n",
              "      <td>0</td>\n",
              "      <td>0</td>\n",
              "      <td>0</td>\n",
              "    </tr>\n",
              "  </tbody>\n",
              "</table>\n",
              "</div>"
            ],
            "text/plain": [
              "   id  product_uid  ...  first_word_title_match  first_word_description_match\n",
              "0   2       100001  ...                       0                             1\n",
              "1   3       100001  ...                       1                             1\n",
              "2   9       100002  ...                       0                             1\n",
              "3  16       100005  ...                       0                             0\n",
              "4  17       100005  ...                       0                             0\n",
              "\n",
              "[5 rows x 24 columns]"
            ]
          },
          "metadata": {
            "tags": []
          },
          "execution_count": 75
        }
      ]
    },
    {
      "cell_type": "code",
      "metadata": {
        "id": "rt0lT7EiACAT",
        "outputId": "4aefdb02-3769-4ae4-aea4-d874174ac648",
        "colab": {
          "base_uri": "https://localhost:8080/",
          "height": 17
        }
      },
      "source": [
        "# #saving tf idf embedding file to local machine\n",
        "# df_tf.to_csv('hd_tf.csv') \n",
        "# files.download('hd_tf.csv')"
      ],
      "execution_count": 77,
      "outputs": [
        {
          "output_type": "display_data",
          "data": {
            "application/javascript": [
              "\n",
              "    async function download(id, filename, size) {\n",
              "      if (!google.colab.kernel.accessAllowed) {\n",
              "        return;\n",
              "      }\n",
              "      const div = document.createElement('div');\n",
              "      const label = document.createElement('label');\n",
              "      label.textContent = `Downloading \"${filename}\": `;\n",
              "      div.appendChild(label);\n",
              "      const progress = document.createElement('progress');\n",
              "      progress.max = size;\n",
              "      div.appendChild(progress);\n",
              "      document.body.appendChild(div);\n",
              "\n",
              "      const buffers = [];\n",
              "      let downloaded = 0;\n",
              "\n",
              "      const channel = await google.colab.kernel.comms.open(id);\n",
              "      // Send a message to notify the kernel that we're ready.\n",
              "      channel.send({})\n",
              "\n",
              "      for await (const message of channel.messages) {\n",
              "        // Send a message to notify the kernel that we're ready.\n",
              "        channel.send({})\n",
              "        if (message.buffers) {\n",
              "          for (const buffer of message.buffers) {\n",
              "            buffers.push(buffer);\n",
              "            downloaded += buffer.byteLength;\n",
              "            progress.value = downloaded;\n",
              "          }\n",
              "        }\n",
              "      }\n",
              "      const blob = new Blob(buffers, {type: 'application/binary'});\n",
              "      const a = document.createElement('a');\n",
              "      a.href = window.URL.createObjectURL(blob);\n",
              "      a.download = filename;\n",
              "      div.appendChild(a);\n",
              "      a.click();\n",
              "      div.remove();\n",
              "    }\n",
              "  "
            ],
            "text/plain": [
              "<IPython.core.display.Javascript object>"
            ]
          },
          "metadata": {
            "tags": []
          }
        },
        {
          "output_type": "display_data",
          "data": {
            "application/javascript": [
              "download(\"download_ef442068-90d0-442e-9236-7a7cf3fd5258\", \"hd_tf.csv\", 11279822)"
            ],
            "text/plain": [
              "<IPython.core.display.Javascript object>"
            ]
          },
          "metadata": {
            "tags": []
          }
        }
      ]
    },
    {
      "cell_type": "markdown",
      "metadata": {
        "id": "6QNu-YgWQ5Vi"
      },
      "source": [
        "# 5. Sentence Embedding\n"
      ]
    },
    {
      "cell_type": "code",
      "metadata": {
        "id": "mhvlXEepaELU",
        "outputId": "7ac123b2-0d5e-4fe9-84fb-21ef0e08e334",
        "colab": {
          "base_uri": "https://localhost:8080/",
          "height": 52
        }
      },
      "source": [
        "\"\"\"\n",
        "Pretrain models on sentence embedding\n",
        "https://github.com/Separius/awesome-sentence-embedding#encoders\n",
        "\n",
        "\"\"\""
      ],
      "execution_count": 139,
      "outputs": [
        {
          "output_type": "execute_result",
          "data": {
            "application/vnd.google.colaboratory.intrinsic+json": {
              "type": "string"
            },
            "text/plain": [
              "'\\nPretrain models on sentence embedding\\nhttps://github.com/Separius/awesome-sentence-embedding#encoders\\n'"
            ]
          },
          "metadata": {
            "tags": []
          },
          "execution_count": 139
        }
      ]
    },
    {
      "cell_type": "code",
      "metadata": {
        "id": "dauGPHrtAURB",
        "outputId": "27fc731d-cf75-407e-944b-d16d3519beaf",
        "colab": {
          "base_uri": "https://localhost:8080/",
          "height": 34
        }
      },
      "source": [
        "from sentence_transformers import SentenceTransformer, util\n",
        "import torch\n",
        "embedder = SentenceTransformer('distilbert-base-nli-stsb-mean-tokens')"
      ],
      "execution_count": 5,
      "outputs": [
        {
          "output_type": "stream",
          "text": [
            "100%|██████████| 245M/245M [00:06<00:00, 38.1MB/s]\n"
          ],
          "name": "stderr"
        }
      ]
    },
    {
      "cell_type": "code",
      "metadata": {
        "id": "F91eM-lcAmj4",
        "outputId": "4bc7f7f7-42a8-4614-9d1d-a96f032056b3",
        "colab": {
          "base_uri": "https://localhost:8080/",
          "height": 34
        }
      },
      "source": [
        "# device = torch.device(\"cuda:0\")\n",
        "# print(torch.cuda.device_count())"
      ],
      "execution_count": 11,
      "outputs": [
        {
          "output_type": "stream",
          "text": [
            "1\n"
          ],
          "name": "stdout"
        }
      ]
    },
    {
      "cell_type": "code",
      "metadata": {
        "id": "ZbEVdBOgRf2E"
      },
      "source": [
        "df_sent = pd.read_csv(\"/content/drive/My Drive/UBS/df_train_all.csv\", encoding=\"ISO-8859-1\", index_col=0)"
      ],
      "execution_count": 7,
      "outputs": []
    },
    {
      "cell_type": "code",
      "metadata": {
        "id": "QRSJzbxwexRA"
      },
      "source": [
        "#pip install -U sentence-transformers"
      ],
      "execution_count": 6,
      "outputs": []
    },
    {
      "cell_type": "code",
      "metadata": {
        "id": "K_9dOr66RFmC"
      },
      "source": [
        "def sent_emb(query_col, df, corpus_col):\n",
        "  sent_emb=[]\n",
        "  n=df.shape[0]\n",
        "  # for row in range(n):\n",
        "  for row in range(n):\n",
        "    corpus=df.iloc[row][corpus_col]\n",
        "    query=df.iloc[row][query_col]\n",
        "    corpus_embeddings = embedder.encode(corpus, convert_to_tensor=True)\n",
        "    query_embedding = embedder.encode(query, convert_to_tensor=True)\n",
        "    cos_scores = util.pytorch_cos_sim(query_embedding, corpus_embeddings)[0]\n",
        "    cos_scores = cos_scores.cpu().item()\n",
        "    sent_emb.append(cos_scores)\n",
        "      #query_vec = model.encode(df.iloc[row][query])[0]\n",
        "  return sent_emb"
      ],
      "execution_count": 8,
      "outputs": []
    },
    {
      "cell_type": "code",
      "metadata": {
        "id": "iHRVeztlCPw2",
        "outputId": "ab2d439b-49c6-4ed5-b057-e6256ab3f272",
        "colab": {
          "base_uri": "https://localhost:8080/",
          "height": 323
        }
      },
      "source": [
        "df_sent.info()\n",
        "word_col_names = ['brand',\"attribute\",'product_title','product_description']"
      ],
      "execution_count": 36,
      "outputs": [
        {
          "output_type": "stream",
          "text": [
            "<class 'pandas.core.frame.DataFrame'>\n",
            "Int64Index: 56439 entries, 0 to 74066\n",
            "Data columns (total 11 columns):\n",
            " #   Column                        Non-Null Count  Dtype  \n",
            "---  ------                        --------------  -----  \n",
            " 0   id                            56439 non-null  int64  \n",
            " 1   product_uid                   56439 non-null  int64  \n",
            " 2   product_title                 56439 non-null  object \n",
            " 3   search_term                   56439 non-null  object \n",
            " 4   relevance                     56439 non-null  float64\n",
            " 5   product_description           56439 non-null  object \n",
            " 6   brand                         56439 non-null  object \n",
            " 7   attribute                     56439 non-null  object \n",
            " 8   product_info                  56439 non-null  object \n",
            " 9   num_common_units_measurement  56439 non-null  int64  \n",
            " 10  num_common_colors             56439 non-null  int64  \n",
            "dtypes: float64(1), int64(4), object(6)\n",
            "memory usage: 5.2+ MB\n"
          ],
          "name": "stdout"
        }
      ]
    },
    {
      "cell_type": "code",
      "metadata": {
        "id": "rL3sgc1YR25h"
      },
      "source": [
        "df_sent_emb = pd.DataFrame()\n",
        "\n",
        "product_title_emb = sent_emb('search_term',df_sent,'product_title')\n",
        "df_sent_emb['title_sent']=product_title_emb"
      ],
      "execution_count": 45,
      "outputs": []
    },
    {
      "cell_type": "code",
      "metadata": {
        "id": "VkntYXL0G_Bl"
      },
      "source": [
        "product_desc_emb = sent_emb('search_term',df_sent,'product_description')\n",
        "df_sent_emb['desc_sent']=product_desc_emb "
      ],
      "execution_count": null,
      "outputs": []
    },
    {
      "cell_type": "code",
      "metadata": {
        "id": "gOsXH8fXHBP0"
      },
      "source": [
        "attribute_emb = sent_emb('search_term',df_sent,'attribute')\n",
        "df_sent_emb['attr_sent']=attribute_emb"
      ],
      "execution_count": null,
      "outputs": []
    },
    {
      "cell_type": "code",
      "metadata": {
        "id": "Mc6OJ0e0HDrJ"
      },
      "source": [
        "brand_emb = sent_emb('search_term',df_sent,'brand')\n",
        "df_sent_emb['brand_sent']=brand_emb"
      ],
      "execution_count": null,
      "outputs": []
    },
    {
      "cell_type": "code",
      "metadata": {
        "id": "Ov6jgpVCCj_j",
        "outputId": "560a30da-2cec-4135-a87d-1fabf57df12b",
        "colab": {
          "base_uri": "https://localhost:8080/",
          "height": 419
        }
      },
      "source": [
        "df_sent_emb"
      ],
      "execution_count": 13,
      "outputs": [
        {
          "output_type": "execute_result",
          "data": {
            "text/html": [
              "<div>\n",
              "<style scoped>\n",
              "    .dataframe tbody tr th:only-of-type {\n",
              "        vertical-align: middle;\n",
              "    }\n",
              "\n",
              "    .dataframe tbody tr th {\n",
              "        vertical-align: top;\n",
              "    }\n",
              "\n",
              "    .dataframe thead th {\n",
              "        text-align: right;\n",
              "    }\n",
              "</style>\n",
              "<table border=\"1\" class=\"dataframe\">\n",
              "  <thead>\n",
              "    <tr style=\"text-align: right;\">\n",
              "      <th></th>\n",
              "      <th>title_sent</th>\n",
              "      <th>desc_sent</th>\n",
              "      <th>attr_sent</th>\n",
              "      <th>brand_sent</th>\n",
              "    </tr>\n",
              "  </thead>\n",
              "  <tbody>\n",
              "    <tr>\n",
              "      <th>0</th>\n",
              "      <td>0.268432</td>\n",
              "      <td>0.196211</td>\n",
              "      <td>0.088577</td>\n",
              "      <td>0.195731</td>\n",
              "    </tr>\n",
              "    <tr>\n",
              "      <th>1</th>\n",
              "      <td>0.142207</td>\n",
              "      <td>0.157782</td>\n",
              "      <td>0.110434</td>\n",
              "      <td>0.173621</td>\n",
              "    </tr>\n",
              "    <tr>\n",
              "      <th>2</th>\n",
              "      <td>0.288776</td>\n",
              "      <td>0.140190</td>\n",
              "      <td>0.035634</td>\n",
              "      <td>0.383535</td>\n",
              "    </tr>\n",
              "    <tr>\n",
              "      <th>3</th>\n",
              "      <td>0.016940</td>\n",
              "      <td>0.106550</td>\n",
              "      <td>0.135462</td>\n",
              "      <td>0.308229</td>\n",
              "    </tr>\n",
              "    <tr>\n",
              "      <th>4</th>\n",
              "      <td>0.663730</td>\n",
              "      <td>0.593988</td>\n",
              "      <td>0.590545</td>\n",
              "      <td>0.088269</td>\n",
              "    </tr>\n",
              "    <tr>\n",
              "      <th>...</th>\n",
              "      <td>...</td>\n",
              "      <td>...</td>\n",
              "      <td>...</td>\n",
              "      <td>...</td>\n",
              "    </tr>\n",
              "    <tr>\n",
              "      <th>56434</th>\n",
              "      <td>0.340043</td>\n",
              "      <td>0.235630</td>\n",
              "      <td>0.088616</td>\n",
              "      <td>0.158531</td>\n",
              "    </tr>\n",
              "    <tr>\n",
              "      <th>56435</th>\n",
              "      <td>0.608579</td>\n",
              "      <td>0.383637</td>\n",
              "      <td>0.312123</td>\n",
              "      <td>0.270859</td>\n",
              "    </tr>\n",
              "    <tr>\n",
              "      <th>56436</th>\n",
              "      <td>0.364812</td>\n",
              "      <td>0.204493</td>\n",
              "      <td>0.292375</td>\n",
              "      <td>0.387411</td>\n",
              "    </tr>\n",
              "    <tr>\n",
              "      <th>56437</th>\n",
              "      <td>0.502652</td>\n",
              "      <td>0.447396</td>\n",
              "      <td>0.364241</td>\n",
              "      <td>0.052004</td>\n",
              "    </tr>\n",
              "    <tr>\n",
              "      <th>56438</th>\n",
              "      <td>0.465626</td>\n",
              "      <td>0.299633</td>\n",
              "      <td>0.424043</td>\n",
              "      <td>0.127126</td>\n",
              "    </tr>\n",
              "  </tbody>\n",
              "</table>\n",
              "<p>56439 rows × 4 columns</p>\n",
              "</div>"
            ],
            "text/plain": [
              "       title_sent  desc_sent  attr_sent  brand_sent\n",
              "0        0.268432   0.196211   0.088577    0.195731\n",
              "1        0.142207   0.157782   0.110434    0.173621\n",
              "2        0.288776   0.140190   0.035634    0.383535\n",
              "3        0.016940   0.106550   0.135462    0.308229\n",
              "4        0.663730   0.593988   0.590545    0.088269\n",
              "...           ...        ...        ...         ...\n",
              "56434    0.340043   0.235630   0.088616    0.158531\n",
              "56435    0.608579   0.383637   0.312123    0.270859\n",
              "56436    0.364812   0.204493   0.292375    0.387411\n",
              "56437    0.502652   0.447396   0.364241    0.052004\n",
              "56438    0.465626   0.299633   0.424043    0.127126\n",
              "\n",
              "[56439 rows x 4 columns]"
            ]
          },
          "metadata": {
            "tags": []
          },
          "execution_count": 13
        }
      ]
    },
    {
      "cell_type": "code",
      "metadata": {
        "id": "E5nkDvSmg7wC"
      },
      "source": [
        "df_all_no_emb = pd.read_csv(\"/content/drive/My Drive/UBS/df_all_no_emb.csv\", encoding=\"ISO-8859-1\", index_col=0)\n",
        "df_sent_emb = pd.read_csv(\"/content/drive/My Drive/UBS/df_sent_emb.csv\", encoding=\"ISO-8859-1\", index_col=0)\n"
      ],
      "execution_count": 64,
      "outputs": []
    },
    {
      "cell_type": "code",
      "metadata": {
        "id": "kTPGJkXOkQjk"
      },
      "source": [
        "df=df_all_no_emb.copy()"
      ],
      "execution_count": 65,
      "outputs": []
    },
    {
      "cell_type": "code",
      "metadata": {
        "id": "LEMvGljuhSuj"
      },
      "source": [
        "# obj_col=[]\n",
        "# for (columnName, columnData) in df_all_no_emb.iteritems(): \n",
        "#   if df_all_no_emb[columnName].dtypes==object: \n",
        "#     obj_col.append(columnName)\n",
        "# df_all_no_emb=df_all_no_emb.drop(obj_col, axis=1)"
      ],
      "execution_count": null,
      "outputs": []
    },
    {
      "cell_type": "code",
      "metadata": {
        "id": "04RlGsA2mSd6"
      },
      "source": [
        "for (columnName, columnData) in df_sent_emb.iteritems(): \n",
        "  df[columnName]= df_sent_emb[columnName]"
      ],
      "execution_count": 66,
      "outputs": []
    },
    {
      "cell_type": "code",
      "metadata": {
        "id": "HgU1ij_liEAu"
      },
      "source": [
        "df=pd.concat([df, df_sent_emb,], axis=1)"
      ],
      "execution_count": 61,
      "outputs": []
    },
    {
      "cell_type": "code",
      "metadata": {
        "id": "u12ssW-shkj-"
      },
      "source": [
        "df=df.dropna()"
      ],
      "execution_count": 68,
      "outputs": []
    },
    {
      "cell_type": "code",
      "metadata": {
        "id": "ifMVT3Ntm1kL",
        "outputId": "9906d16e-ccec-41fe-e9fb-27ad49c5ef03",
        "colab": {
          "base_uri": "https://localhost:8080/",
          "height": 493
        }
      },
      "source": [
        "df.info()"
      ],
      "execution_count": 69,
      "outputs": [
        {
          "output_type": "stream",
          "text": [
            "<class 'pandas.core.frame.DataFrame'>\n",
            "Int64Index: 40024 entries, 0 to 56438\n",
            "Data columns (total 21 columns):\n",
            " #   Column                        Non-Null Count  Dtype  \n",
            "---  ------                        --------------  -----  \n",
            " 0   id                            40024 non-null  int64  \n",
            " 1   product_uid                   40024 non-null  int64  \n",
            " 2   relevance                     40024 non-null  float64\n",
            " 3   num_common_units_measurement  40024 non-null  int64  \n",
            " 4   num_common_colors             40024 non-null  int64  \n",
            " 5   len_of_query                  40024 non-null  int64  \n",
            " 6   word_in_title                 40024 non-null  int64  \n",
            " 7   word_in_description           40024 non-null  int64  \n",
            " 8   len_of_brand                  40024 non-null  int64  \n",
            " 9   len_of_attribute              40024 non-null  int64  \n",
            " 10  word_in_attributes            40024 non-null  int64  \n",
            " 11  brand_in_search               40024 non-null  int64  \n",
            " 12  ratio_brand                   40024 non-null  float64\n",
            " 13  last_word_title_match         40024 non-null  int64  \n",
            " 14  last_word_description_match   40024 non-null  int64  \n",
            " 15  first_word_title_match        40024 non-null  int64  \n",
            " 16  first_word_description_match  40024 non-null  int64  \n",
            " 17  title_sent                    40024 non-null  float64\n",
            " 18  desc_sent                     40024 non-null  float64\n",
            " 19  attr_sent                     40024 non-null  float64\n",
            " 20  brand_sent                    40024 non-null  float64\n",
            "dtypes: float64(6), int64(15)\n",
            "memory usage: 6.7 MB\n"
          ],
          "name": "stdout"
        }
      ]
    },
    {
      "cell_type": "code",
      "metadata": {
        "id": "oFTPJKO9gWkm",
        "outputId": "c9a2539c-b56b-449b-a740-52f8d455129b",
        "colab": {
          "base_uri": "https://localhost:8080/",
          "height": 17
        }
      },
      "source": [
        "#saving sentence embedding file to local machine\n",
        "df.to_csv('df_sent_emb.csv') \n",
        "files.download('df_sent_emb.csv')"
      ],
      "execution_count": 70,
      "outputs": [
        {
          "output_type": "display_data",
          "data": {
            "application/javascript": [
              "\n",
              "    async function download(id, filename, size) {\n",
              "      if (!google.colab.kernel.accessAllowed) {\n",
              "        return;\n",
              "      }\n",
              "      const div = document.createElement('div');\n",
              "      const label = document.createElement('label');\n",
              "      label.textContent = `Downloading \"${filename}\": `;\n",
              "      div.appendChild(label);\n",
              "      const progress = document.createElement('progress');\n",
              "      progress.max = size;\n",
              "      div.appendChild(progress);\n",
              "      document.body.appendChild(div);\n",
              "\n",
              "      const buffers = [];\n",
              "      let downloaded = 0;\n",
              "\n",
              "      const channel = await google.colab.kernel.comms.open(id);\n",
              "      // Send a message to notify the kernel that we're ready.\n",
              "      channel.send({})\n",
              "\n",
              "      for await (const message of channel.messages) {\n",
              "        // Send a message to notify the kernel that we're ready.\n",
              "        channel.send({})\n",
              "        if (message.buffers) {\n",
              "          for (const buffer of message.buffers) {\n",
              "            buffers.push(buffer);\n",
              "            downloaded += buffer.byteLength;\n",
              "            progress.value = downloaded;\n",
              "          }\n",
              "        }\n",
              "      }\n",
              "      const blob = new Blob(buffers, {type: 'application/binary'});\n",
              "      const a = document.createElement('a');\n",
              "      a.href = window.URL.createObjectURL(blob);\n",
              "      a.download = filename;\n",
              "      div.appendChild(a);\n",
              "      a.click();\n",
              "      div.remove();\n",
              "    }\n",
              "  "
            ],
            "text/plain": [
              "<IPython.core.display.Javascript object>"
            ]
          },
          "metadata": {
            "tags": []
          }
        },
        {
          "output_type": "display_data",
          "data": {
            "application/javascript": [
              "download(\"download_2ca92760-6c17-4835-b51a-fa17ecd52963\", \"df_sent_emb.csv\", 5408230)"
            ],
            "text/plain": [
              "<IPython.core.display.Javascript object>"
            ]
          },
          "metadata": {
            "tags": []
          }
        }
      ]
    },
    {
      "cell_type": "code",
      "metadata": {
        "id": "qzLZqyiSg7Xz"
      },
      "source": [
        ""
      ],
      "execution_count": null,
      "outputs": []
    },
    {
      "cell_type": "markdown",
      "metadata": {
        "id": "FOMvMQxsQAbS"
      },
      "source": [
        "# 5. Train Model"
      ]
    },
    {
      "cell_type": "markdown",
      "metadata": {
        "id": "NPq1rxnKF2bq"
      },
      "source": [
        "## 5.1 Train-Test Split"
      ]
    },
    {
      "cell_type": "code",
      "metadata": {
        "id": "IG4eoqtGaI2i"
      },
      "source": [
        "#loading previously calculated data frames\n",
        "df_all_avg_word = pd.read_csv(\"/content/drive/My Drive/UBS/df_all_avg.csv\", encoding=\"ISO-8859-1\", index_col=0)\n",
        "df_all_no_emb=pd.read_csv(\"/content/drive/My Drive/UBS/df_all_no_emb.csv\", encoding=\"ISO-8859-1\", index_col=0)\n",
        "df_tf=pd.read_csv(\"/content/drive/My Drive/UBS/hd_tf.csv\", encoding=\"ISO-8859-1\", index_col=0)\n",
        "df_sent_emb=pd.read_csv(\"/content/drive/My Drive/UBS/df_sent_emb.csv\", encoding=\"ISO-8859-1\", index_col=0)"
      ],
      "execution_count": 71,
      "outputs": []
    },
    {
      "cell_type": "code",
      "metadata": {
        "id": "2ho9TzJAZsKT"
      },
      "source": [
        "X1 = df_all_no_emb.drop('relevance',axis=1)\n",
        "y1 = df_all_no_emb['relevance'].values\n",
        "\n",
        "#X1_train, X1_test, y1_train, y1_test = train_test_split(X1, y1, test_size=0.33, random_state=42)"
      ],
      "execution_count": 85,
      "outputs": []
    },
    {
      "cell_type": "code",
      "metadata": {
        "id": "E8yW6AFSQAbV"
      },
      "source": [
        "X2 = df_all_avg_word.drop('relevance',axis=1)\n",
        "y2 = df_all_avg_word['relevance'].values\n",
        "\n",
        "#X2_train, X2_test, y2_train, y2_test = train_test_split(X2, y2, test_size=0.33, random_state=42)"
      ],
      "execution_count": 86,
      "outputs": []
    },
    {
      "cell_type": "code",
      "metadata": {
        "id": "QgclLrSvApW7"
      },
      "source": [
        "X3 = df_tf.drop('relevance',axis=1)\n",
        "y3 = df_tf['relevance'].values"
      ],
      "execution_count": 75,
      "outputs": []
    },
    {
      "cell_type": "code",
      "metadata": {
        "id": "Eo0yjoIogoFs"
      },
      "source": [
        "X4 = df_sent_emb.drop('relevance',axis=1)\n",
        "y4 = df_sent_emb['relevance'].values"
      ],
      "execution_count": 73,
      "outputs": []
    },
    {
      "cell_type": "markdown",
      "metadata": {
        "id": "_nXO5PzeGhbm"
      },
      "source": [
        "## 5.2 Random Forest"
      ]
    },
    {
      "cell_type": "markdown",
      "metadata": {
        "id": "AcycLAb9ngAs"
      },
      "source": [
        "### 5.2.1 No Embeddings"
      ]
    },
    {
      "cell_type": "code",
      "metadata": {
        "id": "pIJInQVyQAbi",
        "outputId": "f85c85af-1d08-4f0c-8c3f-d82d8c66e923",
        "colab": {
          "base_uri": "https://localhost:8080/",
          "height": 51
        }
      },
      "source": [
        "#Random forest\n",
        "rf = RandomForestRegressor(n_estimators=15, max_depth=6, random_state=0)\n",
        "tmp=datetime.now()\n",
        "rf.fit(X1, y1)\n",
        "print(math.sqrt(-cross_val_score(rf, X1, y1, scoring='neg_mean_squared_error', cv=10).mean()))\n",
        "print((datetime.now()-tmp).total_seconds())\n",
        "\n",
        "#for other scoring methods \n",
        "#see https://scikit-learn.org/stable/modules/model_evaluation.html#scoring-parameter\n",
        "\n",
        "#y1_pred_rf = rf.predict(X1_test)\n",
        "#print(math.sqrt(mean_squared_error(y1_test, y1_pred_rf)))\n",
        "#CV_score_rf = cross_val_score(rf, X1_train, y1_train, scoring='neg_mean_squared_error', cv=10)\n",
        "#math.sqrt(-CV_score_rf.mean()) #root mean squared error"
      ],
      "execution_count": 96,
      "outputs": [
        {
          "output_type": "stream",
          "text": [
            "0.5188235502114964\n",
            "14.986599\n"
          ],
          "name": "stdout"
        }
      ]
    },
    {
      "cell_type": "code",
      "metadata": {
        "id": "bBKT_nM6MRC9",
        "outputId": "6a242d30-db2e-4355-a591-97a07f391efc",
        "colab": {
          "base_uri": "https://localhost:8080/",
          "height": 51
        }
      },
      "source": [
        "clf = BaggingRegressor(rf, n_estimators=45, max_samples=0.1, random_state=25)\n",
        "tmp=datetime.now()\n",
        "clf.fit(X1, y1)\n",
        "#y1_pred_clf = clf.predict(X1_test)\n",
        "\n",
        "# #out of sample result\n",
        "# print(math.sqrt(mean_squared_error(y1_test, y1_pred_clf)))\n",
        "#in-sample result\n",
        "print(math.sqrt(-cross_val_score(clf, X1, y1, scoring='neg_mean_squared_error', cv=10).mean()))\n",
        "print((datetime.now()-tmp).total_seconds())"
      ],
      "execution_count": 97,
      "outputs": [
        {
          "output_type": "stream",
          "text": [
            "0.5173451642008592\n",
            "83.973682\n"
          ],
          "name": "stdout"
        }
      ]
    },
    {
      "cell_type": "markdown",
      "metadata": {
        "id": "yRJ9w7aHnlgO"
      },
      "source": [
        "### 5.2.2 Avg Word"
      ]
    },
    {
      "cell_type": "code",
      "metadata": {
        "id": "Oi19H7uXb97d",
        "outputId": "0848a138-6414-4817-a669-b99e7eb1a741",
        "colab": {
          "base_uri": "https://localhost:8080/",
          "height": 51
        }
      },
      "source": [
        "#Random forest\n",
        "rf = RandomForestRegressor(n_estimators=15, max_depth=6, random_state=0)\n",
        "tmp=datetime.now()\n",
        "rf.fit(X2, y2)\n",
        "#y2_pred_rf = rf.predict(X2_test)\n",
        "#print(math.sqrt(mean_squared_error(y2_test, y2_pred_rf)))\n",
        "print(math.sqrt(-cross_val_score(rf, X2, y2, scoring='neg_mean_squared_error', cv=10).mean()))\n",
        "print((datetime.now()-tmp).total_seconds())"
      ],
      "execution_count": 98,
      "outputs": [
        {
          "output_type": "stream",
          "text": [
            "0.5199382909574269\n",
            "21.794932\n"
          ],
          "name": "stdout"
        }
      ]
    },
    {
      "cell_type": "code",
      "metadata": {
        "id": "33VwMBltMaeL",
        "outputId": "423a38e4-9744-4a6b-f87b-d3ae5585704f",
        "colab": {
          "base_uri": "https://localhost:8080/",
          "height": 51
        }
      },
      "source": [
        "clf = BaggingRegressor(rf, n_estimators=45, max_samples=0.1, random_state=25)\n",
        "tmp=datetime.now()\n",
        "clf.fit(X2, y2)\n",
        "#y1_pred_clf = clf.predict(X1_test)\n",
        "\n",
        "# #out of sample result\n",
        "# print(math.sqrt(mean_squared_error(y1_test, y1_pred_clf)))\n",
        "#in-sample result\n",
        "print(math.sqrt(-cross_val_score(clf, X2, y2, scoring='neg_mean_squared_error', cv=10).mean()))\n",
        "print((datetime.now()-tmp).total_seconds())"
      ],
      "execution_count": 99,
      "outputs": [
        {
          "output_type": "stream",
          "text": [
            "0.5208850925938922\n",
            "106.398646\n"
          ],
          "name": "stdout"
        }
      ]
    },
    {
      "cell_type": "markdown",
      "metadata": {
        "id": "2KgoC5lxnoiK"
      },
      "source": [
        "### 5.2.3 TF-IDF"
      ]
    },
    {
      "cell_type": "code",
      "metadata": {
        "id": "0Z84SIm3K4d1",
        "outputId": "c4a03e6c-af35-4f9a-aaf6-08758e486a1e",
        "colab": {
          "base_uri": "https://localhost:8080/",
          "height": 51
        }
      },
      "source": [
        "#Random forest\n",
        "rf = RandomForestRegressor(n_estimators=15, max_depth=6, random_state=0)\n",
        "tmp=datetime.now()\n",
        "rf.fit(X3, y3)\n",
        "\n",
        "print(math.sqrt(-cross_val_score(rf, X3, y3, scoring='neg_mean_squared_error', cv=10).mean()))\n",
        "print((datetime.now()-tmp).total_seconds())"
      ],
      "execution_count": 76,
      "outputs": [
        {
          "output_type": "stream",
          "text": [
            "0.5175197462224496\n",
            "33.22749\n"
          ],
          "name": "stdout"
        }
      ]
    },
    {
      "cell_type": "code",
      "metadata": {
        "id": "TUc8KeggMid_",
        "outputId": "99b5d8b2-432c-4084-a686-7910a62286db",
        "colab": {
          "base_uri": "https://localhost:8080/",
          "height": 51
        }
      },
      "source": [
        "clf = BaggingRegressor(rf, n_estimators=45, max_samples=0.1, random_state=25)\n",
        "tmp=datetime.now()\n",
        "clf.fit(X3, y3)\n",
        "#y1_pred_clf = clf.predict(X1_test)\n",
        "\n",
        "# #out of sample result\n",
        "# print(math.sqrt(mean_squared_error(y1_test, y1_pred_clf)))\n",
        "#in-sample result\n",
        "print(math.sqrt(-cross_val_score(clf, X3, y3, scoring='neg_mean_squared_error', cv=10).mean()))\n",
        "print((datetime.now()-tmp).total_seconds())"
      ],
      "execution_count": 101,
      "outputs": [
        {
          "output_type": "stream",
          "text": [
            "0.5161183072400922\n",
            "168.891574\n"
          ],
          "name": "stdout"
        }
      ]
    },
    {
      "cell_type": "markdown",
      "metadata": {
        "id": "ZDRRyG01nuML"
      },
      "source": [
        "### 5.2.4 Sentence Embedding"
      ]
    },
    {
      "cell_type": "code",
      "metadata": {
        "id": "Mp0eHX4fjLbE",
        "outputId": "4322d460-74a0-4ffa-ee6b-434882729e63",
        "colab": {
          "base_uri": "https://localhost:8080/",
          "height": 51
        }
      },
      "source": [
        "#Random forest\n",
        "rf = RandomForestRegressor(n_estimators=15, max_depth=6, random_state=0)\n",
        "tmp=datetime.now()\n",
        "rf.fit(X4, y4)\n",
        "\n",
        "print(math.sqrt(-cross_val_score(rf, X4, y4, scoring='neg_mean_squared_error', cv=10).mean()))\n",
        "print((datetime.now()-tmp).total_seconds())"
      ],
      "execution_count": 78,
      "outputs": [
        {
          "output_type": "stream",
          "text": [
            "0.5197880733488591\n",
            "19.742932\n"
          ],
          "name": "stdout"
        }
      ]
    },
    {
      "cell_type": "code",
      "metadata": {
        "id": "PMFRDLmXjLlT",
        "outputId": "d6635fbd-a6d9-4210-ee2b-5b069750f78a",
        "colab": {
          "base_uri": "https://localhost:8080/",
          "height": 51
        }
      },
      "source": [
        "clf = BaggingRegressor(rf, n_estimators=45, max_samples=0.1, random_state=25)\n",
        "tmp=datetime.now()\n",
        "clf.fit(X4, y4)\n",
        "#y1_pred_clf = clf.predict(X1_test)\n",
        "\n",
        "# #out of sample result\n",
        "# print(math.sqrt(mean_squared_error(y1_test, y1_pred_clf)))\n",
        "#in-sample result\n",
        "print(math.sqrt(-cross_val_score(clf, X4, y4, scoring='neg_mean_squared_error', cv=10).mean()))\n",
        "print((datetime.now()-tmp).total_seconds())"
      ],
      "execution_count": 79,
      "outputs": [
        {
          "output_type": "stream",
          "text": [
            "0.5207209291718087\n",
            "93.884182\n"
          ],
          "name": "stdout"
        }
      ]
    },
    {
      "cell_type": "markdown",
      "metadata": {
        "id": "ch_idhpMGm4n"
      },
      "source": [
        "## 5.3 XGB Regressor"
      ]
    },
    {
      "cell_type": "code",
      "metadata": {
        "id": "_urVXV7rMBRJ"
      },
      "source": [
        "from xgboost import plot_importance\n",
        "from matplotlib import pyplot as plt\n",
        "%matplotlib inline"
      ],
      "execution_count": 81,
      "outputs": []
    },
    {
      "cell_type": "markdown",
      "metadata": {
        "id": "VYHI76Mpn6zd"
      },
      "source": [
        "### 5.3.1  No Embedding"
      ]
    },
    {
      "cell_type": "code",
      "metadata": {
        "id": "PblYpR8tQAbt",
        "outputId": "2bcd0d8d-dbe5-48c5-c1a1-3418e62994eb",
        "colab": {
          "base_uri": "https://localhost:8080/",
          "height": 51
        }
      },
      "source": [
        "#xgboost\n",
        "xg_reg = xgb.XGBRegressor(objective ='reg:squarederror', learning_rate = 0.1,max_depth = 5)\n",
        "tmp=datetime.now()\n",
        "xg_reg.fit(X1,y1)\n",
        "# y_pred_xg = xg_reg.predict(X_test)\n",
        "# print(math.sqrt(mean_squared_error(y_test, y_pred_xg)))\n",
        "print(math.sqrt(-cross_val_score(xg_reg, X1, y1, scoring='neg_mean_squared_error', cv=10).mean()))\n",
        "print((datetime.now()-tmp).total_seconds())"
      ],
      "execution_count": 103,
      "outputs": [
        {
          "output_type": "stream",
          "text": [
            "0.522987658819654\n",
            "54.45602\n"
          ],
          "name": "stdout"
        }
      ]
    },
    {
      "cell_type": "code",
      "metadata": {
        "id": "ThIIXBZkQAb2",
        "outputId": "7a48b37d-b46c-44c9-d407-837a133dc17d",
        "colab": {
          "base_uri": "https://localhost:8080/",
          "height": 295
        }
      },
      "source": [
        "plot_importance(xg_reg)\n",
        "plt.show() "
      ],
      "execution_count": 104,
      "outputs": [
        {
          "output_type": "display_data",
          "data": {
            "image/png": "[encoded data removed]",
            "text/plain": [
              "<Figure size 432x288 with 1 Axes>"
            ]
          },
          "metadata": {
            "tags": [],
            "needs_background": "light"
          }
        }
      ]
    },
    {
      "cell_type": "markdown",
      "metadata": {
        "id": "Aki1RDcxoATP"
      },
      "source": [
        "### 5.3.2 Avg Word"
      ]
    },
    {
      "cell_type": "code",
      "metadata": {
        "id": "7BKuk4LkMqRT",
        "outputId": "137ce834-580a-4aef-99a2-9e7bd5e793bc",
        "colab": {
          "base_uri": "https://localhost:8080/",
          "height": 51
        }
      },
      "source": [
        "#xgboost\n",
        "xg_reg = xgb.XGBRegressor(objective ='reg:squarederror', learning_rate = 0.1,max_depth = 5)\n",
        "tmp=datetime.now()\n",
        "xg_reg.fit(X2,y2)\n",
        "# y_pred_xg = xg_reg.predict(X_test)\n",
        "# print(math.sqrt(mean_squared_error(y_test, y_pred_xg)))\n",
        "print(math.sqrt(-cross_val_score(xg_reg, X2, y2, scoring='neg_mean_squared_error', cv=10).mean()))\n",
        "print((datetime.now()-tmp).total_seconds())"
      ],
      "execution_count": 105,
      "outputs": [
        {
          "output_type": "stream",
          "text": [
            "0.5213290392625874\n",
            "55.36807\n"
          ],
          "name": "stdout"
        }
      ]
    },
    {
      "cell_type": "code",
      "metadata": {
        "id": "cnTMH2ZnMwAg",
        "outputId": "f8a4de86-46bb-4261-fca2-43112e1715a4",
        "colab": {
          "base_uri": "https://localhost:8080/",
          "height": 295
        }
      },
      "source": [
        "plot_importance(xg_reg)\n",
        "plt.show() "
      ],
      "execution_count": 106,
      "outputs": [
        {
          "output_type": "display_data",
          "data": {
            "image/png": "[encoded data removed]",
            "text/plain": [
              "<Figure size 432x288 with 1 Axes>"
            ]
          },
          "metadata": {
            "tags": [],
            "needs_background": "light"
          }
        }
      ]
    },
    {
      "cell_type": "markdown",
      "metadata": {
        "id": "g_aU6yrsoDMk"
      },
      "source": [
        "### 5.3.3 TF_IDF\n"
      ]
    },
    {
      "cell_type": "code",
      "metadata": {
        "id": "HAFNfk71M4-u",
        "outputId": "4b0dbd17-ab13-44ac-c2db-d1d76353fa3c",
        "colab": {
          "base_uri": "https://localhost:8080/",
          "height": 329
        }
      },
      "source": [
        "#xgboost\n",
        "xg_reg = xgb.XGBRegressor(objective ='reg:squarederror', learning_rate = 0.1,max_depth = 5)\n",
        "tmp=datetime.now()\n",
        "xg_reg.fit(X3,y3)\n",
        "# y_pred_xg = xg_reg.predict(X_test)\n",
        "# print(math.sqrt(mean_squared_error(y_test, y_pred_xg)))\n",
        "print(math.sqrt(-cross_val_score(xg_reg, X3, y3, scoring='neg_mean_squared_error', cv=10).mean()))\n",
        "print((datetime.now()-tmp).total_seconds())\n",
        "plot_importance(xg_reg)\n",
        "plt.show() "
      ],
      "execution_count": 107,
      "outputs": [
        {
          "output_type": "stream",
          "text": [
            "0.5107661228901149\n",
            "86.906755\n"
          ],
          "name": "stdout"
        },
        {
          "output_type": "display_data",
          "data": {
            "image/png": "[encoded data removed]",
            "text/plain": [
              "<Figure size 432x288 with 1 Axes>"
            ]
          },
          "metadata": {
            "tags": [],
            "needs_background": "light"
          }
        }
      ]
    },
    {
      "cell_type": "markdown",
      "metadata": {
        "id": "eQaOC1PdoKzC"
      },
      "source": [
        "### 5.3.4 Sentence Embedding"
      ]
    },
    {
      "cell_type": "code",
      "metadata": {
        "id": "CHYu0YkGoPH1",
        "outputId": "f6b9248f-261d-4d32-fce8-4a8f5a4dcfad",
        "colab": {
          "base_uri": "https://localhost:8080/",
          "height": 329
        }
      },
      "source": [
        "#xgboost\n",
        "xg_reg = xgb.XGBRegressor(objective ='reg:squarederror', learning_rate = 0.1,max_depth = 5)\n",
        "tmp=datetime.now()\n",
        "xg_reg.fit(X4,y4)\n",
        "# y_pred_xg = xg_reg.predict(X_test)\n",
        "# print(math.sqrt(mean_squared_error(y_test, y_pred_xg)))\n",
        "print(math.sqrt(-cross_val_score(xg_reg, X4, y4, scoring='neg_mean_squared_error', cv=10).mean()))\n",
        "print((datetime.now()-tmp).total_seconds())\n",
        "plot_importance(xg_reg)\n",
        "plt.show() "
      ],
      "execution_count": 82,
      "outputs": [
        {
          "output_type": "stream",
          "text": [
            "0.5211020877842513\n",
            "53.559729\n"
          ],
          "name": "stdout"
        },
        {
          "output_type": "display_data",
          "data": {
            "image/png": "[encoded data removed]",
            "text/plain": [
              "<Figure size 432x288 with 1 Axes>"
            ]
          },
          "metadata": {
            "tags": [],
            "needs_background": "light"
          }
        }
      ]
    },
    {
      "cell_type": "markdown",
      "metadata": {
        "id": "ztpXMxiOGzWd"
      },
      "source": [
        "## 5.5 Light GBM"
      ]
    },
    {
      "cell_type": "code",
      "metadata": {
        "id": "L281vPXKNfIO"
      },
      "source": [
        "import lightgbm"
      ],
      "execution_count": 83,
      "outputs": []
    },
    {
      "cell_type": "markdown",
      "metadata": {
        "id": "sxEGgJF6oxq3"
      },
      "source": [
        "5.5.1 No Embedding"
      ]
    },
    {
      "cell_type": "code",
      "metadata": {
        "id": "VOq-ABzpQAb8",
        "outputId": "969b684e-e0d7-44c1-8aa8-4f4eb19a6bda",
        "colab": {
          "base_uri": "https://localhost:8080/",
          "height": 51
        }
      },
      "source": [
        "mod_lgbm = lightgbm.LGBMRegressor(max_depth=3,learning_rate=0.1)\n",
        "tmp=datetime.now()\n",
        "mod_lgbm.fit(X1,y1)\n",
        "print(math.sqrt(-cross_val_score(mod_lgbm, X1, y1, scoring='neg_mean_squared_error', cv=10).mean()))\n",
        "print((datetime.now()-tmp).total_seconds())"
      ],
      "execution_count": 109,
      "outputs": [
        {
          "output_type": "stream",
          "text": [
            "0.5156396172720061\n",
            "5.17835\n"
          ],
          "name": "stdout"
        }
      ]
    },
    {
      "cell_type": "markdown",
      "metadata": {
        "id": "B76x9OqUo1PR"
      },
      "source": [
        "### 5.5.2 Avg Word"
      ]
    },
    {
      "cell_type": "code",
      "metadata": {
        "id": "5yaj_KdJNFES",
        "outputId": "c94a21b3-5a4b-4fc1-9225-9b4ebc1c8d96",
        "colab": {
          "base_uri": "https://localhost:8080/",
          "height": 51
        }
      },
      "source": [
        "mod_lgbm = lightgbm.LGBMRegressor(max_depth=3,learning_rate=0.1)\n",
        "tmp=datetime.now()\n",
        "mod_lgbm.fit(X2,y2)\n",
        "print(math.sqrt(-cross_val_score(mod_lgbm, X2, y2, scoring='neg_mean_squared_error', cv=10).mean()))\n",
        "print((datetime.now()-tmp).total_seconds())"
      ],
      "execution_count": 110,
      "outputs": [
        {
          "output_type": "stream",
          "text": [
            "0.5186430732896095\n",
            "4.626038\n"
          ],
          "name": "stdout"
        }
      ]
    },
    {
      "cell_type": "markdown",
      "metadata": {
        "id": "oZHZeo7Do5Di"
      },
      "source": [
        "### 5.5.3 TF-IDF"
      ]
    },
    {
      "cell_type": "code",
      "metadata": {
        "id": "ytMGumY1NmFj",
        "outputId": "97ec4288-19f1-4d41-8763-655e10e7e377",
        "colab": {
          "base_uri": "https://localhost:8080/",
          "height": 51
        }
      },
      "source": [
        "mod_lgbm = lightgbm.LGBMRegressor(max_depth=3,learning_rate=0.1)\n",
        "tmp=datetime.now()\n",
        "mod_lgbm.fit(X3,y3)\n",
        "print(math.sqrt(-cross_val_score(mod_lgbm, X3, y3, scoring='neg_mean_squared_error', cv=10).mean()))\n",
        "print((datetime.now()-tmp).total_seconds())"
      ],
      "execution_count": 85,
      "outputs": [
        {
          "output_type": "stream",
          "text": [
            "0.5127894183985278\n",
            "6.54635\n"
          ],
          "name": "stdout"
        }
      ]
    },
    {
      "cell_type": "markdown",
      "metadata": {
        "id": "feozmJqlooml"
      },
      "source": [
        "### 5.5.4 Sentence Embedding"
      ]
    },
    {
      "cell_type": "code",
      "metadata": {
        "id": "ahWMc-FBokV9",
        "outputId": "8476663c-e48a-4c3c-c359-6d5197c1571d",
        "colab": {
          "base_uri": "https://localhost:8080/",
          "height": 51
        }
      },
      "source": [
        "mod_lgbm = lightgbm.LGBMRegressor(max_depth=3,learning_rate=0.1)\n",
        "tmp=datetime.now()\n",
        "mod_lgbm.fit(X4,y4)\n",
        "print(math.sqrt(-cross_val_score(mod_lgbm, X4, y4, scoring='neg_mean_squared_error', cv=10).mean()))\n",
        "print((datetime.now()-tmp).total_seconds())"
      ],
      "execution_count": 86,
      "outputs": [
        {
          "output_type": "stream",
          "text": [
            "0.5184844305141089\n",
            "4.128092\n"
          ],
          "name": "stdout"
        }
      ]
    },
    {
      "cell_type": "code",
      "metadata": {
        "id": "sUTbsfVZQAb_",
        "outputId": "8fd1c974-ccb5-44e3-ddcc-2e8ae4eb4917",
        "colab": {
          "base_uri": "https://localhost:8080/",
          "height": 34
        }
      },
      "source": [
        "print('Done')"
      ],
      "execution_count": 112,
      "outputs": [
        {
          "output_type": "stream",
          "text": [
            "Done\n"
          ],
          "name": "stdout"
        }
      ]
    },
    {
      "cell_type": "code",
      "metadata": {
        "id": "84g-Rqq6QAcD"
      },
      "source": [
        ""
      ],
      "execution_count": 112,
      "outputs": []
    }
  ]
}